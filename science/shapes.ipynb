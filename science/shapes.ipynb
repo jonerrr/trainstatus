{
 "cells": [
  {
   "cell_type": "code",
   "execution_count": 1,
   "metadata": {},
   "outputs": [],
   "source": [
    "import geopandas as gpd\n",
    "import pandas as pd\n",
    "import shapely"
   ]
  },
  {
   "cell_type": "code",
   "execution_count": 11,
   "metadata": {},
   "outputs": [],
   "source": [
    "pd.set_option(\"display.max_rows\", 500)"
   ]
  },
  {
   "cell_type": "code",
   "execution_count": 2,
   "metadata": {},
   "outputs": [],
   "source": [
    "df = pd.read_csv(r\"data/gtfs_subway/shapes.txt\")\n",
    "df[\"route_id\"] = df[\"shape_id\"].str.split(\".\").str[0]"
   ]
  },
  {
   "cell_type": "code",
   "execution_count": null,
   "metadata": {},
   "outputs": [],
   "source": [
    "df[\"route_id\"].unique()"
   ]
  },
  {
   "cell_type": "code",
   "execution_count": 49,
   "metadata": {},
   "outputs": [],
   "source": [
    "df_filtered = df[df[\"route_id\"] == \"E\"]"
   ]
  },
  {
   "cell_type": "code",
   "execution_count": 50,
   "metadata": {},
   "outputs": [],
   "source": [
    "df_filtered = df_filtered.drop_duplicates([\"shape_pt_lat\", \"shape_pt_lon\"])"
   ]
  },
  {
   "cell_type": "code",
   "execution_count": null,
   "metadata": {},
   "outputs": [],
   "source": [
    "gpd.GeoDataFrame(\n",
    "    df_filtered,\n",
    "    geometry=gpd.points_from_xy(df_filtered.shape_pt_lon, df_filtered.shape_pt_lat),\n",
    "    crs=4326,\n",
    ").explore()"
   ]
  },
  {
   "cell_type": "code",
   "execution_count": 52,
   "metadata": {},
   "outputs": [],
   "source": [
    "shape = df_filtered.to_dict(orient=\"records\")\n",
    "mls = []\n",
    "for i in range(len(shape)):\n",
    "    if i == len(shape) - 1:\n",
    "        break\n",
    "    if shape[i][\"shape_id\"] != shape[i + 1][\"shape_id\"]:\n",
    "        continue\n",
    "    p1 = (shape[i][\"shape_pt_lon\"], shape[i][\"shape_pt_lat\"])\n",
    "    p2 = (shape[i + 1][\"shape_pt_lon\"], shape[i + 1][\"shape_pt_lat\"])\n",
    "    mls.append(shapely.LineString([p1, p2]))\n",
    "mls = shapely.MultiLineString(mls)"
   ]
  },
  {
   "cell_type": "code",
   "execution_count": null,
   "metadata": {},
   "outputs": [],
   "source": [
    "gpd.GeoDataFrame(geometry=[mls], crs=4326).explore()"
   ]
  },
  {
   "cell_type": "code",
   "execution_count": 55,
   "metadata": {},
   "outputs": [],
   "source": [
    "gdf = gpd.read_file(\"http://localhost:3055/v1/routes?route_type=train&geojson=true\")"
   ]
  },
  {
   "cell_type": "code",
   "execution_count": null,
   "metadata": {},
   "outputs": [],
   "source": [
    "gdf.explore()"
   ]
  }
 ],
 "metadata": {
  "kernelspec": {
   "display_name": ".venv",
   "language": "python",
   "name": "python3"
  },
  "language_info": {
   "codemirror_mode": {
    "name": "ipython",
    "version": 3
   },
   "file_extension": ".py",
   "mimetype": "text/x-python",
   "name": "python",
   "nbconvert_exporter": "python",
   "pygments_lexer": "ipython3",
   "version": "3.13.1"
  }
 },
 "nbformat": 4,
 "nbformat_minor": 2
}
