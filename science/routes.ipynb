{
 "cells": [
  {
   "cell_type": "code",
   "execution_count": 5,
   "metadata": {},
   "outputs": [],
   "source": [
    "import polars as pl\n",
    "import requests"
   ]
  },
  {
   "cell_type": "code",
   "execution_count": 7,
   "metadata": {},
   "outputs": [],
   "source": [
    "r = requests.get(\"http://localhost:3055/v1/stops\").json()\n",
    "\n",
    "df = pl.DataFrame(r)"
   ]
  },
  {
   "cell_type": "code",
   "execution_count": 11,
   "metadata": {},
   "outputs": [
    {
     "data": {
      "text/html": [
       "<div><style>\n",
       ".dataframe > thead > tr,\n",
       ".dataframe > tbody > tr {\n",
       "  text-align: right;\n",
       "  white-space: pre-wrap;\n",
       "}\n",
       "</style>\n",
       "<small>shape: (15_538, 8)</small><table border=\"1\" class=\"dataframe\"><thead><tr><th>id</th><th>name</th><th>lat</th><th>lon</th><th>route_type</th><th>data</th><th>routes</th><th>total_routes</th></tr><tr><td>i64</td><td>str</td><td>f64</td><td>f64</td><td>str</td><td>struct[6]</td><td>list[struct[3]]</td><td>u32</td></tr></thead><tbody><tr><td>404299</td><td>&quot;Madison&nbsp;Av/E&nbsp;48&nbsp;St&quot;</td><td>40.75688</td><td>-73.9762</td><td>&quot;bus&quot;</td><td>{null,null,null,null,null,null}</td><td>[{&quot;BM1&quot;,42,null},&nbsp;{&quot;BM2&quot;,44,null},&nbsp;…&nbsp;{&quot;X68&quot;,6,null}]</td><td>17</td></tr><tr><td>400070</td><td>&quot;Trinity&nbsp;Pl/Rector&nbsp;St&quot;</td><td>40.708008</td><td>-74.01271</td><td>&quot;bus&quot;</td><td>{null,null,null,null,null,null}</td><td>[{&quot;BM1&quot;,30,null},&nbsp;{&quot;BM2&quot;,32,null},&nbsp;…&nbsp;{&quot;SIM4X&quot;,3,null}]</td><td>16</td></tr><tr><td>401844</td><td>&quot;W&nbsp;34&nbsp;St/5&nbsp;Av&quot;</td><td>40.748672</td><td>-73.98491</td><td>&quot;bus&quot;</td><td>{null,null,null,null,null,null}</td><td>[{&quot;QM1&quot;,14,null},&nbsp;{&quot;QM10&quot;,13,null},&nbsp;…&nbsp;{&quot;SIM24&quot;,5,null}]</td><td>16</td></tr><tr><td>203650</td><td>&quot;Bay&nbsp;St/Borough&nbsp;Pl&quot;</td><td>40.640614</td><td>-74.07567</td><td>&quot;bus&quot;</td><td>{null,null,null,null,null,null}</td><td>[{&quot;S42&quot;,20,null},&nbsp;{&quot;S46&quot;,55,null},&nbsp;…&nbsp;{&quot;S98&quot;,22,null}]</td><td>15</td></tr><tr><td>402143</td><td>&quot;E&nbsp;23&nbsp;St/1&nbsp;Av&quot;</td><td>40.737297</td><td>-73.97936</td><td>&quot;bus&quot;</td><td>{null,null,null,null,null,null}</td><td>[{&quot;BM1&quot;,35,null},&nbsp;{&quot;BM2&quot;,37,null},&nbsp;…&nbsp;{&quot;X68&quot;,0,null}]</td><td>15</td></tr><tr><td>&hellip;</td><td>&hellip;</td><td>&hellip;</td><td>&hellip;</td><td>&hellip;</td><td>&hellip;</td><td>&hellip;</td><td>&hellip;</td></tr><tr><td>985005</td><td>&quot;S&nbsp;Broadway/New&nbsp;Main&nbsp;St&quot;</td><td>40.933636</td><td>-73.89782</td><td>&quot;bus&quot;</td><td>{null,null,null,null,null,null}</td><td>[{&quot;BXM3&quot;,30,null}]</td><td>1</td></tr><tr><td>985006</td><td>&quot;S&nbsp;Broadway/Prospect&nbsp;St&quot;</td><td>40.932045</td><td>-73.89914</td><td>&quot;bus&quot;</td><td>{null,null,null,null,null,null}</td><td>[{&quot;BXM3&quot;,0,null}]</td><td>1</td></tr><tr><td>985007</td><td>&quot;S&nbsp;Broadway/Mclean&nbsp;Av&quot;</td><td>40.920547</td><td>-73.89625</td><td>&quot;bus&quot;</td><td>{null,null,null,null,null,null}</td><td>[{&quot;BXM3&quot;,2,null}]</td><td>1</td></tr><tr><td>985008</td><td>&quot;S&nbsp;Broadway/Vark&nbsp;St&quot;</td><td>40.92876</td><td>-73.89653</td><td>&quot;bus&quot;</td><td>{null,null,null,null,null,null}</td><td>[{&quot;BXM3&quot;,1,null}]</td><td>1</td></tr><tr><td>985009</td><td>&quot;S&nbsp;Broadway/Radford&nbsp;St&quot;</td><td>40.91729</td><td>-73.89685</td><td>&quot;bus&quot;</td><td>{null,null,null,null,null,null}</td><td>[{&quot;BXM3&quot;,3,null}]</td><td>1</td></tr></tbody></table></div>"
      ],
      "text/plain": [
       "shape: (15_538, 8)\n",
       "┌────────┬─────────────┬───────────┬───────────┬────────────┬────────────┬────────────┬────────────┐\n",
       "│ id     ┆ name        ┆ lat       ┆ lon       ┆ route_type ┆ data       ┆ routes     ┆ total_rout │\n",
       "│ ---    ┆ ---         ┆ ---       ┆ ---       ┆ ---        ┆ ---        ┆ ---        ┆ es         │\n",
       "│ i64    ┆ str         ┆ f64       ┆ f64       ┆ str        ┆ struct[6]  ┆ list[struc ┆ ---        │\n",
       "│        ┆             ┆           ┆           ┆            ┆            ┆ t[3]]      ┆ u32        │\n",
       "╞════════╪═════════════╪═══════════╪═══════════╪════════════╪════════════╪════════════╪════════════╡\n",
       "│ 404299 ┆ Madison     ┆ 40.75688  ┆ -73.9762  ┆ bus        ┆ {null,null ┆ [{\"BM1\",42 ┆ 17         │\n",
       "│        ┆ Av/E 48 St  ┆           ┆           ┆            ┆ ,null,null ┆ ,null},    ┆            │\n",
       "│        ┆             ┆           ┆           ┆            ┆ ,null,null ┆ {\"BM2\",44, ┆            │\n",
       "│        ┆             ┆           ┆           ┆            ┆ …          ┆ nu…        ┆            │\n",
       "│ 400070 ┆ Trinity     ┆ 40.708008 ┆ -74.01271 ┆ bus        ┆ {null,null ┆ [{\"BM1\",30 ┆ 16         │\n",
       "│        ┆ Pl/Rector   ┆           ┆           ┆            ┆ ,null,null ┆ ,null},    ┆            │\n",
       "│        ┆ St          ┆           ┆           ┆            ┆ ,null,null ┆ {\"BM2\",32, ┆            │\n",
       "│        ┆             ┆           ┆           ┆            ┆ …          ┆ nu…        ┆            │\n",
       "│ 401844 ┆ W 34 St/5   ┆ 40.748672 ┆ -73.98491 ┆ bus        ┆ {null,null ┆ [{\"QM1\",14 ┆ 16         │\n",
       "│        ┆ Av          ┆           ┆           ┆            ┆ ,null,null ┆ ,null},    ┆            │\n",
       "│        ┆             ┆           ┆           ┆            ┆ ,null,null ┆ {\"QM10\",13 ┆            │\n",
       "│        ┆             ┆           ┆           ┆            ┆ …          ┆ ,n…        ┆            │\n",
       "│ 203650 ┆ Bay         ┆ 40.640614 ┆ -74.07567 ┆ bus        ┆ {null,null ┆ [{\"S42\",20 ┆ 15         │\n",
       "│        ┆ St/Borough  ┆           ┆           ┆            ┆ ,null,null ┆ ,null},    ┆            │\n",
       "│        ┆ Pl          ┆           ┆           ┆            ┆ ,null,null ┆ {\"S46\",55, ┆            │\n",
       "│        ┆             ┆           ┆           ┆            ┆ …          ┆ nu…        ┆            │\n",
       "│ 402143 ┆ E 23 St/1   ┆ 40.737297 ┆ -73.97936 ┆ bus        ┆ {null,null ┆ [{\"BM1\",35 ┆ 15         │\n",
       "│        ┆ Av          ┆           ┆           ┆            ┆ ,null,null ┆ ,null},    ┆            │\n",
       "│        ┆             ┆           ┆           ┆            ┆ ,null,null ┆ {\"BM2\",37, ┆            │\n",
       "│        ┆             ┆           ┆           ┆            ┆ …          ┆ nu…        ┆            │\n",
       "│ …      ┆ …           ┆ …         ┆ …         ┆ …          ┆ …          ┆ …          ┆ …          │\n",
       "│ 985005 ┆ S Broadway/ ┆ 40.933636 ┆ -73.89782 ┆ bus        ┆ {null,null ┆ [{\"BXM3\",3 ┆ 1          │\n",
       "│        ┆ New Main St ┆           ┆           ┆            ┆ ,null,null ┆ 0,null}]   ┆            │\n",
       "│        ┆             ┆           ┆           ┆            ┆ ,null,null ┆            ┆            │\n",
       "│        ┆             ┆           ┆           ┆            ┆ …          ┆            ┆            │\n",
       "│ 985006 ┆ S Broadway/ ┆ 40.932045 ┆ -73.89914 ┆ bus        ┆ {null,null ┆ [{\"BXM3\",0 ┆ 1          │\n",
       "│        ┆ Prospect St ┆           ┆           ┆            ┆ ,null,null ┆ ,null}]    ┆            │\n",
       "│        ┆             ┆           ┆           ┆            ┆ ,null,null ┆            ┆            │\n",
       "│        ┆             ┆           ┆           ┆            ┆ …          ┆            ┆            │\n",
       "│ 985007 ┆ S Broadway/ ┆ 40.920547 ┆ -73.89625 ┆ bus        ┆ {null,null ┆ [{\"BXM3\",2 ┆ 1          │\n",
       "│        ┆ Mclean Av   ┆           ┆           ┆            ┆ ,null,null ┆ ,null}]    ┆            │\n",
       "│        ┆             ┆           ┆           ┆            ┆ ,null,null ┆            ┆            │\n",
       "│        ┆             ┆           ┆           ┆            ┆ …          ┆            ┆            │\n",
       "│ 985008 ┆ S Broadway/ ┆ 40.92876  ┆ -73.89653 ┆ bus        ┆ {null,null ┆ [{\"BXM3\",1 ┆ 1          │\n",
       "│        ┆ Vark St     ┆           ┆           ┆            ┆ ,null,null ┆ ,null}]    ┆            │\n",
       "│        ┆             ┆           ┆           ┆            ┆ ,null,null ┆            ┆            │\n",
       "│        ┆             ┆           ┆           ┆            ┆ …          ┆            ┆            │\n",
       "│ 985009 ┆ S Broadway/ ┆ 40.91729  ┆ -73.89685 ┆ bus        ┆ {null,null ┆ [{\"BXM3\",3 ┆ 1          │\n",
       "│        ┆ Radford St  ┆           ┆           ┆            ┆ ,null,null ┆ ,null}]    ┆            │\n",
       "│        ┆             ┆           ┆           ┆            ┆ ,null,null ┆            ┆            │\n",
       "│        ┆             ┆           ┆           ┆            ┆ …          ┆            ┆            │\n",
       "└────────┴─────────────┴───────────┴───────────┴────────────┴────────────┴────────────┴────────────┘"
      ]
     },
     "execution_count": 11,
     "metadata": {},
     "output_type": "execute_result"
    }
   ],
   "source": [
    "df.with_columns(total_routes=pl.col(\"routes\").list.len()).sort(\"total_routes\", descending=True)"
   ]
  }
 ],
 "metadata": {
  "kernelspec": {
   "display_name": "usr",
   "language": "python",
   "name": "python3"
  },
  "language_info": {
   "codemirror_mode": {
    "name": "ipython",
    "version": 3
   },
   "file_extension": ".py",
   "mimetype": "text/x-python",
   "name": "python",
   "nbconvert_exporter": "python",
   "pygments_lexer": "ipython3",
   "version": "3.12.4"
  }
 },
 "nbformat": 4,
 "nbformat_minor": 2
}
