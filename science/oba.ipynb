{
 "cells": [
  {
   "cell_type": "code",
   "execution_count": 1,
   "metadata": {},
   "outputs": [],
   "source": [
    "import polars as pl\n",
    "import requests"
   ]
  },
  {
   "cell_type": "code",
   "execution_count": 2,
   "metadata": {},
   "outputs": [],
   "source": [
    "r = requests.get(\n",
    "    \"http://bustime.mta.info/api/where/vehicles-for-agency/MTABC.json?key=TEST\"\n",
    ").json()\n",
    "df_oba = pl.from_dicts(r[\"data\"][\"list\"])\n",
    "r = requests.get(\n",
    "    \"http://bustime.mta.info/api/where/vehicles-for-agency/MTA NYCT.json?key=TEST\"\n",
    ").json()\n",
    "# combine the two dataframes\n",
    "df_oba = pl.concat([df_oba, pl.from_dicts(r[\"data\"][\"list\"])])"
   ]
  },
  {
   "cell_type": "code",
   "execution_count": 3,
   "metadata": {},
   "outputs": [],
   "source": [
    "r = requests.get(\n",
    "    \"https://bustime.mta.info/api/siri/vehicle-monitoring.json?key=TEST&version=2\"\n",
    ").json()\n",
    "parsed = [\n",
    "    v[\"MonitoredVehicleJourney\"]\n",
    "    for v in r[\"Siri\"][\"ServiceDelivery\"][\"VehicleMonitoringDelivery\"][0][\n",
    "        \"VehicleActivity\"\n",
    "    ]\n",
    "]\n",
    "df_siri = pl.from_dicts(\n",
    "    parsed\n",
    "    # r[\"Siri\"][\"ServiceDelivery\"][\"VehicleMonitoringDelivery\"][0][\"VehicleActivity\"]\n",
    ")"
   ]
  },
  {
   "cell_type": "code",
   "execution_count": 15,
   "metadata": {},
   "outputs": [],
   "source": [
    "df_siri = df_siri.with_columns(\n",
    "    pl.col(\"VehicleRef\").str.split(\"_\").list.last().alias(\"vehicle_id\"),\n",
    "    passengers=pl.col(\"MonitoredCall\")\n",
    "    .struct.field(\"Extensions\")\n",
    "    .struct.field(\"Capacities\")\n",
    "    .struct.field(\"EstimatedPassengerCount\"),\n",
    ")\n",
    "df_oba = df_oba.with_columns(\n",
    "    pl.col(\"tripId\").str.splitn(\"_\", 2).struct[1].alias(\"trip_id\"),\n",
    "    pl.col(\"vehicleId\").str.splitn(\"_\", 2).struct[1].alias(\"vehicle_id\"),\n",
    ")\n",
    "# [\n",
    "#     \"VehicleID\"\n",
    "# ]\n",
    "# create polars series with vehicle IDs"
   ]
  },
  {
   "cell_type": "code",
   "execution_count": null,
   "metadata": {},
   "outputs": [
    {
     "data": {
      "text/plain": [
       "1432"
      ]
     },
     "metadata": {},
     "output_type": "display_data"
    },
    {
     "data": {
      "text/plain": [
       "1317"
      ]
     },
     "metadata": {},
     "output_type": "display_data"
    }
   ],
   "source": [
    "display(\n",
    "    df_oba.filter(pl.col(\"occupancyCount\").is_not_null()).height,\n",
    "    df_siri.filter(pl.col(\"passengers\").is_not_null()).height,\n",
    ")"
   ]
  },
  {
   "cell_type": "code",
   "execution_count": 17,
   "metadata": {},
   "outputs": [],
   "source": [
    "# display(df_oba, df_siri)"
   ]
  },
  {
   "cell_type": "code",
   "execution_count": 6,
   "metadata": {},
   "outputs": [
    {
     "data": {
      "text/plain": [
       "'OBA difference:'"
      ]
     },
     "metadata": {},
     "output_type": "display_data"
    },
    {
     "data": {
      "text/html": [
       "<div><style>\n",
       ".dataframe > thead > tr,\n",
       ".dataframe > tbody > tr {\n",
       "  text-align: right;\n",
       "  white-space: pre-wrap;\n",
       "}\n",
       "</style>\n",
       "<small>shape: (1_027,)</small><table border=\"1\" class=\"dataframe\"><thead><tr><th>vehicle_id</th></tr><tr><td>str</td></tr></thead><tbody><tr><td>&quot;9125&quot;</td></tr><tr><td>&quot;6092&quot;</td></tr><tr><td>&quot;9115&quot;</td></tr><tr><td>&quot;9113&quot;</td></tr><tr><td>&quot;9109&quot;</td></tr><tr><td>&hellip;</td></tr><tr><td>&quot;1207&quot;</td></tr><tr><td>&quot;1203&quot;</td></tr><tr><td>&quot;1202&quot;</td></tr><tr><td>&quot;1229&quot;</td></tr><tr><td>&quot;1232&quot;</td></tr></tbody></table></div>"
      ],
      "text/plain": [
       "shape: (1_027,)\n",
       "Series: 'vehicle_id' [str]\n",
       "[\n",
       "\t\"9125\"\n",
       "\t\"6092\"\n",
       "\t\"9115\"\n",
       "\t\"9113\"\n",
       "\t\"9109\"\n",
       "\t…\n",
       "\t\"1207\"\n",
       "\t\"1203\"\n",
       "\t\"1202\"\n",
       "\t\"1229\"\n",
       "\t\"1232\"\n",
       "]"
      ]
     },
     "metadata": {},
     "output_type": "display_data"
    }
   ],
   "source": [
    "siri_vehicle_ids = df_siri[\"vehicle_id\"]\n",
    "oba_vehicle_ids = df_oba[\"vehicle_id\"]\n",
    "\n",
    "\n",
    "display(\n",
    "    \"OBA difference:\", oba_vehicle_ids.filter(~oba_vehicle_ids.is_in(siri_vehicle_ids))\n",
    ")\n",
    "# display(\"difference:\", siri_vehicle_ids.filter(~siri_vehicle_ids.is_in(oba_vehicle_ids)))"
   ]
  },
  {
   "cell_type": "code",
   "execution_count": 7,
   "metadata": {},
   "outputs": [
    {
     "data": {
      "text/html": [
       "<div><style>\n",
       ".dataframe > thead > tr,\n",
       ".dataframe > tbody > tr {\n",
       "  text-align: right;\n",
       "  white-space: pre-wrap;\n",
       "}\n",
       "</style>\n",
       "<small>shape: (0, 11)</small><table border=\"1\" class=\"dataframe\"><thead><tr><th>lastLocationUpdateTime</th><th>lastUpdateTime</th><th>location</th><th>occupancyCapacity</th><th>occupancyCount</th><th>occupancyStatus</th><th>phase</th><th>status</th><th>tripId</th><th>vehicleId</th><th>vehicle_id</th></tr><tr><td>i64</td><td>i64</td><td>struct[2]</td><td>i64</td><td>i64</td><td>i64</td><td>str</td><td>str</td><td>str</td><td>str</td><td>str</td></tr></thead><tbody></tbody></table></div>"
      ],
      "text/plain": [
       "shape: (0, 11)\n",
       "┌─────────────┬────────────┬───────────┬────────────┬───┬────────┬────────┬───────────┬────────────┐\n",
       "│ lastLocatio ┆ lastUpdate ┆ location  ┆ occupancyC ┆ … ┆ status ┆ tripId ┆ vehicleId ┆ vehicle_id │\n",
       "│ nUpdateTime ┆ Time       ┆ ---       ┆ apacity    ┆   ┆ ---    ┆ ---    ┆ ---       ┆ ---        │\n",
       "│ ---         ┆ ---        ┆ struct[2] ┆ ---        ┆   ┆ str    ┆ str    ┆ str       ┆ str        │\n",
       "│ i64         ┆ i64        ┆           ┆ i64        ┆   ┆        ┆        ┆           ┆            │\n",
       "╞═════════════╪════════════╪═══════════╪════════════╪═══╪════════╪════════╪═══════════╪════════════╡\n",
       "└─────────────┴────────────┴───────────┴────────────┴───┴────────┴────────┴───────────┴────────────┘"
      ]
     },
     "execution_count": 7,
     "metadata": {},
     "output_type": "execute_result"
    }
   ],
   "source": [
    "filtered_df = df_oba.filter(\n",
    "    pl.col(\"lastLocationUpdateTime\") != pl.col(\"lastUpdateTime\")\n",
    ")\n",
    "# rows are equal\n",
    "# print(f\"Total rows: {len(df)}\")\n",
    "# print(f\"Filtered rows: {len(filtered_df)}\")\n",
    "# filtered_df.head(5)\n",
    "filtered_df"
   ]
  },
  {
   "cell_type": "code",
   "execution_count": 8,
   "metadata": {},
   "outputs": [
    {
     "name": "stdout",
     "output_type": "stream",
     "text": [
      "Siri vehicle IDs not in OBA: shape: (0,)\n",
      "Series: 'vehicle_id' [str]\n",
      "[\n",
      "]\n"
     ]
    }
   ],
   "source": [
    "siri_diff = siri_vehicle_ids.filter(~siri_vehicle_ids.is_in(oba_vehicle_ids))\n",
    "print(f\"Siri vehicle IDs not in OBA: {siri_diff}\")"
   ]
  },
  {
   "cell_type": "code",
   "execution_count": 9,
   "metadata": {},
   "outputs": [
    {
     "data": {
      "text/html": [
       "<div><style>\n",
       ".dataframe > thead > tr,\n",
       ".dataframe > tbody > tr {\n",
       "  text-align: right;\n",
       "  white-space: pre-wrap;\n",
       "}\n",
       "</style>\n",
       "<small>shape: (7, 2)</small><table border=\"1\" class=\"dataframe\"><thead><tr><th>phase</th><th>count</th></tr><tr><td>str</td><td>u32</td></tr></thead><tbody><tr><td>&quot;layover_before&quot;</td><td>5</td></tr><tr><td>&quot;in_progress&quot;</td><td>1741</td></tr><tr><td>&quot;at_base&quot;</td><td>416</td></tr><tr><td>&quot;layover_during&quot;</td><td>275</td></tr><tr><td>&quot;deadhead_during&quot;</td><td>212</td></tr><tr><td>&quot;spooking&quot;</td><td>2</td></tr><tr><td>&quot;deadhead_before&quot;</td><td>370</td></tr></tbody></table></div>"
      ],
      "text/plain": [
       "shape: (7, 2)\n",
       "┌─────────────────┬───────┐\n",
       "│ phase           ┆ count │\n",
       "│ ---             ┆ ---   │\n",
       "│ str             ┆ u32   │\n",
       "╞═════════════════╪═══════╡\n",
       "│ layover_before  ┆ 5     │\n",
       "│ in_progress     ┆ 1741  │\n",
       "│ at_base         ┆ 416   │\n",
       "│ layover_during  ┆ 275   │\n",
       "│ deadhead_during ┆ 212   │\n",
       "│ spooking        ┆ 2     │\n",
       "│ deadhead_before ┆ 370   │\n",
       "└─────────────────┴───────┘"
      ]
     },
     "execution_count": 9,
     "metadata": {},
     "output_type": "execute_result"
    }
   ],
   "source": [
    "df_oba[\"phase\"].value_counts()"
   ]
  },
  {
   "cell_type": "code",
   "execution_count": 10,
   "metadata": {},
   "outputs": [
    {
     "data": {
      "text/html": [
       "<div><style>\n",
       ".dataframe > thead > tr,\n",
       ".dataframe > tbody > tr {\n",
       "  text-align: right;\n",
       "  white-space: pre-wrap;\n",
       "}\n",
       "</style>\n",
       "<small>shape: (5, 2)</small><table border=\"1\" class=\"dataframe\"><thead><tr><th>status</th><th>count</th></tr><tr><td>str</td><td>u32</td></tr></thead><tbody><tr><td>&quot;blockInf+stalled&quot;</td><td>18</td></tr><tr><td>&quot;default&quot;</td><td>901</td></tr><tr><td>&quot;blockInf&quot;</td><td>2090</td></tr><tr><td>&quot;blockInf+deviated&quot;</td><td>6</td></tr><tr><td>&quot;stalled&quot;</td><td>6</td></tr></tbody></table></div>"
      ],
      "text/plain": [
       "shape: (5, 2)\n",
       "┌───────────────────┬───────┐\n",
       "│ status            ┆ count │\n",
       "│ ---               ┆ ---   │\n",
       "│ str               ┆ u32   │\n",
       "╞═══════════════════╪═══════╡\n",
       "│ blockInf+stalled  ┆ 18    │\n",
       "│ default           ┆ 901   │\n",
       "│ blockInf          ┆ 2090  │\n",
       "│ blockInf+deviated ┆ 6     │\n",
       "│ stalled           ┆ 6     │\n",
       "└───────────────────┴───────┘"
      ]
     },
     "execution_count": 10,
     "metadata": {},
     "output_type": "execute_result"
    }
   ],
   "source": [
    "df_oba[\"status\"].value_counts()"
   ]
  },
  {
   "cell_type": "code",
   "execution_count": 9,
   "metadata": {},
   "outputs": [
    {
     "data": {
      "text/html": [
       "<div><style>\n",
       ".dataframe > thead > tr,\n",
       ".dataframe > tbody > tr {\n",
       "  text-align: right;\n",
       "  white-space: pre-wrap;\n",
       "}\n",
       "</style>\n",
       "<small>shape: (5, 2)</small><table border=\"1\" class=\"dataframe\"><thead><tr><th>occupancyStatus</th><th>count</th></tr><tr><td>i64</td><td>u32</td></tr></thead><tbody><tr><td>3</td><td>6</td></tr><tr><td>null</td><td>3946</td></tr><tr><td>1</td><td>1133</td></tr><tr><td>5</td><td>2</td></tr><tr><td>2</td><td>129</td></tr></tbody></table></div>"
      ],
      "text/plain": [
       "shape: (5, 2)\n",
       "┌─────────────────┬───────┐\n",
       "│ occupancyStatus ┆ count │\n",
       "│ ---             ┆ ---   │\n",
       "│ i64             ┆ u32   │\n",
       "╞═════════════════╪═══════╡\n",
       "│ 3               ┆ 6     │\n",
       "│ null            ┆ 3946  │\n",
       "│ 1               ┆ 1133  │\n",
       "│ 5               ┆ 2     │\n",
       "│ 2               ┆ 129   │\n",
       "└─────────────────┴───────┘"
      ]
     },
     "execution_count": 9,
     "metadata": {},
     "output_type": "execute_result"
    }
   ],
   "source": [
    "df_oba[\"occupancyStatus\"].value_counts()"
   ]
  },
  {
   "cell_type": "code",
   "execution_count": null,
   "metadata": {},
   "outputs": [
    {
     "data": {
      "text/html": [
       "<div><style>\n",
       ".dataframe > thead > tr,\n",
       ".dataframe > tbody > tr {\n",
       "  text-align: right;\n",
       "  white-space: pre-wrap;\n",
       "}\n",
       "</style>\n",
       "<small>shape: (3, 2)</small><table border=\"1\" class=\"dataframe\"><thead><tr><th>ProgressRate</th><th>count</th></tr><tr><td>str</td><td>u32</td></tr></thead><tbody><tr><td>&quot;normalProgress&quot;</td><td>3203</td></tr><tr><td>&quot;noProgress&quot;</td><td>318</td></tr><tr><td>&quot;unknown&quot;</td><td>1</td></tr></tbody></table></div>"
      ],
      "text/plain": [
       "shape: (3, 2)\n",
       "┌────────────────┬───────┐\n",
       "│ ProgressRate   ┆ count │\n",
       "│ ---            ┆ ---   │\n",
       "│ str            ┆ u32   │\n",
       "╞════════════════╪═══════╡\n",
       "│ normalProgress ┆ 3203  │\n",
       "│ noProgress     ┆ 318   │\n",
       "│ unknown        ┆ 1     │\n",
       "└────────────────┴───────┘"
      ]
     },
     "execution_count": 37,
     "metadata": {},
     "output_type": "execute_result"
    }
   ],
   "source": [
    "df_siri[\"ProgressRate\"].value_counts()"
   ]
  },
  {
   "cell_type": "code",
   "execution_count": null,
   "metadata": {},
   "outputs": [
    {
     "data": {
      "text/html": [
       "<div><style>\n",
       ".dataframe > thead > tr,\n",
       ".dataframe > tbody > tr {\n",
       "  text-align: right;\n",
       "  white-space: pre-wrap;\n",
       "}\n",
       "</style>\n",
       "<small>shape: (3, 2)</small><table border=\"1\" class=\"dataframe\"><thead><tr><th>ProgressStatus</th><th>count</th></tr><tr><td>list[str]</td><td>u32</td></tr></thead><tbody><tr><td>[&quot;layover&quot;]</td><td>309</td></tr><tr><td>null</td><td>3212</td></tr><tr><td>[&quot;spooking&quot;]</td><td>1</td></tr></tbody></table></div>"
      ],
      "text/plain": [
       "shape: (3, 2)\n",
       "┌────────────────┬───────┐\n",
       "│ ProgressStatus ┆ count │\n",
       "│ ---            ┆ ---   │\n",
       "│ list[str]      ┆ u32   │\n",
       "╞════════════════╪═══════╡\n",
       "│ [\"layover\"]    ┆ 309   │\n",
       "│ null           ┆ 3212  │\n",
       "│ [\"spooking\"]   ┆ 1     │\n",
       "└────────────────┴───────┘"
      ]
     },
     "execution_count": 39,
     "metadata": {},
     "output_type": "execute_result"
    }
   ],
   "source": [
    "df_siri[\"ProgressStatus\"].value_counts()"
   ]
  }
 ],
 "metadata": {
  "kernelspec": {
   "display_name": ".venv",
   "language": "python",
   "name": "python3"
  },
  "language_info": {
   "codemirror_mode": {
    "name": "ipython",
    "version": 3
   },
   "file_extension": ".py",
   "mimetype": "text/x-python",
   "name": "python",
   "nbconvert_exporter": "python",
   "pygments_lexer": "ipython3",
   "version": "3.13.3"
  }
 },
 "nbformat": 4,
 "nbformat_minor": 2
}
