{
 "cells": [
  {
   "cell_type": "code",
   "execution_count": 1,
   "metadata": {},
   "outputs": [],
   "source": [
    "import polars as pl\n",
    "import requests\n",
    "import shapely"
   ]
  },
  {
   "cell_type": "code",
   "execution_count": 2,
   "metadata": {},
   "outputs": [],
   "source": [
    "r = requests.get(\n",
    "    \"http://bustime.mta.info/api/where/vehicles-for-agency/MTABC.json?key=OBANYC\"\n",
    ").json()\n",
    "df_oba = pl.from_dicts(r[\"data\"][\"list\"])\n",
    "r = requests.get(\n",
    "    \"http://bustime.mta.info/api/where/vehicles-for-agency/MTA NYCT.json?key=OBANYC\"\n",
    ").json()\n",
    "# combine the two dataframes\n",
    "df_oba = pl.concat([df_oba, pl.from_dicts(r[\"data\"][\"list\"])])"
   ]
  },
  {
   "cell_type": "code",
   "execution_count": 3,
   "metadata": {},
   "outputs": [],
   "source": [
    "r = requests.get(\n",
    "    \"https://bustime.mta.info/api/siri/vehicle-monitoring.json?key=OBANYC&version=2\"\n",
    ").json()\n",
    "parsed = [\n",
    "    v[\"MonitoredVehicleJourney\"]\n",
    "    for v in r[\"Siri\"][\"ServiceDelivery\"][\"VehicleMonitoringDelivery\"][0][\n",
    "        \"VehicleActivity\"\n",
    "    ]\n",
    "]\n",
    "df_siri = pl.from_dicts(\n",
    "    parsed\n",
    "    # r[\"Siri\"][\"ServiceDelivery\"][\"VehicleMonitoringDelivery\"][0][\"VehicleActivity\"]\n",
    ")"
   ]
  },
  {
   "cell_type": "code",
   "execution_count": 4,
   "metadata": {},
   "outputs": [],
   "source": [
    "df_siri = df_siri.with_columns(\n",
    "    pl.col(\"VehicleRef\").str.split(\"_\").list.last().alias(\"vehicle_id\")\n",
    ")\n",
    "df_oba = df_oba.with_columns(\n",
    "    pl.col(\"vehicleId\").str.split(\"_\").list.last().alias(\"vehicle_id\")\n",
    ")\n",
    "# [\n",
    "#     \"VehicleID\"\n",
    "# ]\n",
    "# create polars series with vehicle IDs"
   ]
  },
  {
   "cell_type": "code",
   "execution_count": 5,
   "metadata": {},
   "outputs": [
    {
     "data": {
      "text/html": [
       "<div><style>\n",
       ".dataframe > thead > tr,\n",
       ".dataframe > tbody > tr {\n",
       "  text-align: right;\n",
       "  white-space: pre-wrap;\n",
       "}\n",
       "</style>\n",
       "<small>shape: (5_218, 11)</small><table border=\"1\" class=\"dataframe\"><thead><tr><th>lastLocationUpdateTime</th><th>lastUpdateTime</th><th>location</th><th>occupancyCapacity</th><th>occupancyCount</th><th>occupancyStatus</th><th>phase</th><th>status</th><th>tripId</th><th>vehicleId</th><th>vehicle_id</th></tr><tr><td>i64</td><td>i64</td><td>struct[2]</td><td>i64</td><td>i64</td><td>i64</td><td>str</td><td>str</td><td>str</td><td>str</td><td>str</td></tr></thead><tbody><tr><td>1748650302254</td><td>1748650302254</td><td>{40.629971,-73.944794}</td><td>80</td><td>10</td><td>1</td><td>&quot;deadhead_during&quot;</td><td>&quot;blockInf&quot;</td><td>&quot;MTABC_43012506-FRPB5-FR_B5-Wee…</td><td>&quot;MTABC_9128&quot;</td><td>&quot;9128&quot;</td></tr><tr><td>1748650313091</td><td>1748650313091</td><td>{40.661297,-73.774529}</td><td>null</td><td>null</td><td>null</td><td>&quot;at_base&quot;</td><td>&quot;default&quot;</td><td>&quot;MTABC_42507761-JKPB5-JK_B5-Wee…</td><td>&quot;MTABC_9129&quot;</td><td>&quot;9129&quot;</td></tr><tr><td>1748650316000</td><td>1748650316000</td><td>{40.704886,-73.809272}</td><td>null</td><td>null</td><td>null</td><td>&quot;layover_during&quot;</td><td>&quot;blockInf&quot;</td><td>&quot;MTABC_42505869-JKPB5-JK_B5-Wee…</td><td>&quot;MTABC_9126&quot;</td><td>&quot;9126&quot;</td></tr><tr><td>1748650300000</td><td>1748650300000</td><td>{40.702018,-73.809872}</td><td>80</td><td>6</td><td>1</td><td>&quot;in_progress&quot;</td><td>&quot;blockInf&quot;</td><td>&quot;MTABC_42507765-JKPB5-JK_B5-Wee…</td><td>&quot;MTABC_9127&quot;</td><td>&quot;9127&quot;</td></tr><tr><td>1748650107253</td><td>1748650107253</td><td>{40.660549,-73.774239}</td><td>null</td><td>null</td><td>null</td><td>&quot;at_base&quot;</td><td>&quot;default&quot;</td><td>&quot;MTABC_42505626-JKPB5-JK_B5-Wee…</td><td>&quot;MTABC_9124&quot;</td><td>&quot;9124&quot;</td></tr><tr><td>&hellip;</td><td>&hellip;</td><td>&hellip;</td><td>&hellip;</td><td>&hellip;</td><td>&hellip;</td><td>&hellip;</td><td>&hellip;</td><td>&hellip;</td><td>&hellip;</td><td>&hellip;</td></tr><tr><td>1748650321000</td><td>1748650321000</td><td>{40.625087,-74.148472}</td><td>65</td><td>4</td><td>1</td><td>&quot;in_progress&quot;</td><td>&quot;default&quot;</td><td>&quot;MTA NYCT_CA_B5-Weekday-SDon-11…</td><td>&quot;MTA NYCT_2545&quot;</td><td>&quot;2545&quot;</td></tr><tr><td>1748648713000</td><td>1748648713000</td><td>{40.574184,-74.165695}</td><td>null</td><td>null</td><td>null</td><td>&quot;at_base&quot;</td><td>&quot;default&quot;</td><td>&quot;&quot;</td><td>&quot;MTA NYCT_2546&quot;</td><td>&quot;2546&quot;</td></tr><tr><td>1748648578000</td><td>1748648578000</td><td>{40.574532,-74.165611}</td><td>null</td><td>null</td><td>null</td><td>&quot;at_base&quot;</td><td>&quot;default&quot;</td><td>&quot;&quot;</td><td>&quot;MTA NYCT_2547&quot;</td><td>&quot;2547&quot;</td></tr><tr><td>1748646527000</td><td>1748646527000</td><td>{40.574638,-74.165497}</td><td>null</td><td>null</td><td>null</td><td>&quot;at_base&quot;</td><td>&quot;default&quot;</td><td>&quot;&quot;</td><td>&quot;MTA NYCT_2548&quot;</td><td>&quot;2548&quot;</td></tr><tr><td>1748648705000</td><td>1748648705000</td><td>{40.572479,-74.166725}</td><td>null</td><td>null</td><td>null</td><td>&quot;at_base&quot;</td><td>&quot;default&quot;</td><td>&quot;&quot;</td><td>&quot;MTA NYCT_2549&quot;</td><td>&quot;2549&quot;</td></tr></tbody></table></div>"
      ],
      "text/plain": [
       "shape: (5_218, 11)\n",
       "┌───────────┬───────────┬───────────┬───────────┬───┬──────────┬───────────┬───────────┬───────────┐\n",
       "│ lastLocat ┆ lastUpdat ┆ location  ┆ occupancy ┆ … ┆ status   ┆ tripId    ┆ vehicleId ┆ vehicle_i │\n",
       "│ ionUpdate ┆ eTime     ┆ ---       ┆ Capacity  ┆   ┆ ---      ┆ ---       ┆ ---       ┆ d         │\n",
       "│ Time      ┆ ---       ┆ struct[2] ┆ ---       ┆   ┆ str      ┆ str       ┆ str       ┆ ---       │\n",
       "│ ---       ┆ i64       ┆           ┆ i64       ┆   ┆          ┆           ┆           ┆ str       │\n",
       "│ i64       ┆           ┆           ┆           ┆   ┆          ┆           ┆           ┆           │\n",
       "╞═══════════╪═══════════╪═══════════╪═══════════╪═══╪══════════╪═══════════╪═══════════╪═══════════╡\n",
       "│ 174865030 ┆ 174865030 ┆ {40.62997 ┆ 80        ┆ … ┆ blockInf ┆ MTABC_430 ┆ MTABC_912 ┆ 9128      │\n",
       "│ 2254      ┆ 2254      ┆ 1,-73.944 ┆           ┆   ┆          ┆ 12506-FRP ┆ 8         ┆           │\n",
       "│           ┆           ┆ 794}      ┆           ┆   ┆          ┆ B5-FR_B5- ┆           ┆           │\n",
       "│           ┆           ┆           ┆           ┆   ┆          ┆ Wee…      ┆           ┆           │\n",
       "│ 174865031 ┆ 174865031 ┆ {40.66129 ┆ null      ┆ … ┆ default  ┆ MTABC_425 ┆ MTABC_912 ┆ 9129      │\n",
       "│ 3091      ┆ 3091      ┆ 7,-73.774 ┆           ┆   ┆          ┆ 07761-JKP ┆ 9         ┆           │\n",
       "│           ┆           ┆ 529}      ┆           ┆   ┆          ┆ B5-JK_B5- ┆           ┆           │\n",
       "│           ┆           ┆           ┆           ┆   ┆          ┆ Wee…      ┆           ┆           │\n",
       "│ 174865031 ┆ 174865031 ┆ {40.70488 ┆ null      ┆ … ┆ blockInf ┆ MTABC_425 ┆ MTABC_912 ┆ 9126      │\n",
       "│ 6000      ┆ 6000      ┆ 6,-73.809 ┆           ┆   ┆          ┆ 05869-JKP ┆ 6         ┆           │\n",
       "│           ┆           ┆ 272}      ┆           ┆   ┆          ┆ B5-JK_B5- ┆           ┆           │\n",
       "│           ┆           ┆           ┆           ┆   ┆          ┆ Wee…      ┆           ┆           │\n",
       "│ 174865030 ┆ 174865030 ┆ {40.70201 ┆ 80        ┆ … ┆ blockInf ┆ MTABC_425 ┆ MTABC_912 ┆ 9127      │\n",
       "│ 0000      ┆ 0000      ┆ 8,-73.809 ┆           ┆   ┆          ┆ 07765-JKP ┆ 7         ┆           │\n",
       "│           ┆           ┆ 872}      ┆           ┆   ┆          ┆ B5-JK_B5- ┆           ┆           │\n",
       "│           ┆           ┆           ┆           ┆   ┆          ┆ Wee…      ┆           ┆           │\n",
       "│ 174865010 ┆ 174865010 ┆ {40.66054 ┆ null      ┆ … ┆ default  ┆ MTABC_425 ┆ MTABC_912 ┆ 9124      │\n",
       "│ 7253      ┆ 7253      ┆ 9,-73.774 ┆           ┆   ┆          ┆ 05626-JKP ┆ 4         ┆           │\n",
       "│           ┆           ┆ 239}      ┆           ┆   ┆          ┆ B5-JK_B5- ┆           ┆           │\n",
       "│           ┆           ┆           ┆           ┆   ┆          ┆ Wee…      ┆           ┆           │\n",
       "│ …         ┆ …         ┆ …         ┆ …         ┆ … ┆ …        ┆ …         ┆ …         ┆ …         │\n",
       "│ 174865032 ┆ 174865032 ┆ {40.62508 ┆ 65        ┆ … ┆ default  ┆ MTA NYCT_ ┆ MTA       ┆ 2545      │\n",
       "│ 1000      ┆ 1000      ┆ 7,-74.148 ┆           ┆   ┆          ┆ CA_B5-Wee ┆ NYCT_2545 ┆           │\n",
       "│           ┆           ┆ 472}      ┆           ┆   ┆          ┆ kday-SDon ┆           ┆           │\n",
       "│           ┆           ┆           ┆           ┆   ┆          ┆ -11…      ┆           ┆           │\n",
       "│ 174864871 ┆ 174864871 ┆ {40.57418 ┆ null      ┆ … ┆ default  ┆           ┆ MTA       ┆ 2546      │\n",
       "│ 3000      ┆ 3000      ┆ 4,-74.165 ┆           ┆   ┆          ┆           ┆ NYCT_2546 ┆           │\n",
       "│           ┆           ┆ 695}      ┆           ┆   ┆          ┆           ┆           ┆           │\n",
       "│ 174864857 ┆ 174864857 ┆ {40.57453 ┆ null      ┆ … ┆ default  ┆           ┆ MTA       ┆ 2547      │\n",
       "│ 8000      ┆ 8000      ┆ 2,-74.165 ┆           ┆   ┆          ┆           ┆ NYCT_2547 ┆           │\n",
       "│           ┆           ┆ 611}      ┆           ┆   ┆          ┆           ┆           ┆           │\n",
       "│ 174864652 ┆ 174864652 ┆ {40.57463 ┆ null      ┆ … ┆ default  ┆           ┆ MTA       ┆ 2548      │\n",
       "│ 7000      ┆ 7000      ┆ 8,-74.165 ┆           ┆   ┆          ┆           ┆ NYCT_2548 ┆           │\n",
       "│           ┆           ┆ 497}      ┆           ┆   ┆          ┆           ┆           ┆           │\n",
       "│ 174864870 ┆ 174864870 ┆ {40.57247 ┆ null      ┆ … ┆ default  ┆           ┆ MTA       ┆ 2549      │\n",
       "│ 5000      ┆ 5000      ┆ 9,-74.166 ┆           ┆   ┆          ┆           ┆ NYCT_2549 ┆           │\n",
       "│           ┆           ┆ 725}      ┆           ┆   ┆          ┆           ┆           ┆           │\n",
       "└───────────┴───────────┴───────────┴───────────┴───┴──────────┴───────────┴───────────┴───────────┘"
      ]
     },
     "metadata": {},
     "output_type": "display_data"
    },
    {
     "data": {
      "text/html": [
       "<div><style>\n",
       ".dataframe > thead > tr,\n",
       ".dataframe > tbody > tr {\n",
       "  text-align: right;\n",
       "  white-space: pre-wrap;\n",
       "}\n",
       "</style>\n",
       "<small>shape: (2_161, 17)</small><table border=\"1\" class=\"dataframe\"><thead><tr><th>LineRef</th><th>DirectionRef</th><th>FramedVehicleJourneyRef</th><th>PublishedLineName</th><th>DestinationRef</th><th>DestinationName</th><th>Monitored</th><th>VehicleLocation</th><th>Bearing</th><th>ProgressRate</th><th>Occupancy</th><th>VehicleRef</th><th>MonitoredCall</th><th>SituationRef</th><th>OriginAimedDepartureTime</th><th>ProgressStatus</th><th>vehicle_id</th></tr><tr><td>str</td><td>str</td><td>struct[2]</td><td>list[str]</td><td>str</td><td>list[str]</td><td>bool</td><td>struct[2]</td><td>f64</td><td>str</td><td>str</td><td>str</td><td>struct[9]</td><td>list[struct[1]]</td><td>str</td><td>list[str]</td><td>str</td></tr></thead><tbody><tr><td>&quot;MTA NYCT_BX28&quot;</td><td>&quot;1&quot;</td><td>{&quot;2025-05-30&quot;,&quot;MTA NYCT_GH_B5-Weekday-SDon-118500_BX238_633&quot;}</td><td>[&quot;Bx28&quot;]</td><td>&quot;MTA_101530&quot;</td><td>[&quot;FORDHAM CENTER 192 ST via GUNHILL&quot;]</td><td>true</td><td>{-73.869681,40.878185}</td><td>164.57784</td><td>&quot;normalProgress&quot;</td><td>&quot;seatsAvailable&quot;</td><td>&quot;MTA NYCT_9771&quot;</td><td>{&quot;2025-05-30T20:17:16.707-04:00&quot;,&quot;2025-05-30T20:13:41.978-04:00&quot;,&quot;&lt; 1 stop away&quot;,&quot;2025-05-30T20:13:41.978-04:00&quot;,320,0,{{10,80,&quot;manySeatsAvailable&quot;}},1,[&quot;EAST GUN HILL RD/HULL AV&quot;]}</td><td>null</td><td>null</td><td>null</td><td>&quot;9771&quot;</td></tr><tr><td>&quot;MTA NYCT_Q17&quot;</td><td>&quot;0&quot;</td><td>{&quot;2025-05-30&quot;,&quot;MTA NYCT_JA_B5-Weekday-SDon-120700_MISC_854&quot;}</td><td>[&quot;Q17&quot;]</td><td>&quot;MTA_804041&quot;</td><td>[&quot;FLUSHING&quot;]</td><td>true</td><td>{-73.793887,40.708477}</td><td>123.19985</td><td>&quot;normalProgress&quot;</td><td>null</td><td>&quot;MTA NYCT_8440&quot;</td><td>{&quot;2025-05-30T20:09:59.713-04:00&quot;,&quot;2025-05-30T20:12:11.232-04:00&quot;,&quot;&lt; 1 stop away&quot;,&quot;2025-05-30T20:12:11.232-04:00&quot;,154,0,null,1,[&quot;168 ST/HILLSIDE AV&quot;]}</td><td>[{&quot;MTABC_lmm:planned_work:23593&quot;}]</td><td>null</td><td>null</td><td>&quot;8440&quot;</td></tr><tr><td>&quot;MTA NYCT_BX29&quot;</td><td>&quot;0&quot;</td><td>{&quot;2025-05-30&quot;,&quot;MTA NYCT_GH_B5-Weekday-SDon-119500_BX12_164&quot;}</td><td>[&quot;Bx29&quot;]</td><td>&quot;MTA_100829&quot;</td><td>[&quot;CITY ISLAND&quot;]</td><td>true</td><td>{-73.785252,40.843927}</td><td>290.83667</td><td>&quot;normalProgress&quot;</td><td>&quot;seatsAvailable&quot;</td><td>&quot;MTA NYCT_9770&quot;</td><td>{&quot;2025-05-30T20:05:10.719-04:00&quot;,&quot;2025-05-30T20:11:43.520-04:00&quot;,&quot;at stop&quot;,&quot;2025-05-30T20:11:43.520-04:00&quot;,10,0,{{7,80,&quot;manySeatsAvailable&quot;}},1,[&quot;CITY ISLAND AV/WINTERS ST&quot;]}</td><td>null</td><td>null</td><td>null</td><td>&quot;9770&quot;</td></tr><tr><td>&quot;MTA NYCT_Q84&quot;</td><td>&quot;1&quot;</td><td>{&quot;2025-05-30&quot;,&quot;MTA NYCT_JA_B5-Weekday-SDon-119500_MISC_858&quot;}</td><td>[&quot;Q84&quot;]</td><td>&quot;MTA_804039&quot;</td><td>[&quot;JAMAICA PARSONS-ARCHER&quot;]</td><td>true</td><td>{-73.761007,40.686489}</td><td>199.52666</td><td>&quot;normalProgress&quot;</td><td>&quot;seatsAvailable&quot;</td><td>&quot;MTA NYCT_8443&quot;</td><td>{&quot;2025-05-30T20:06:50.727-04:00&quot;,null,&quot;at stop&quot;,null,0,0,{{14,80,&quot;manySeatsAvailable&quot;}},1,[&quot;120 AV/FARMERS BLVD&quot;]}</td><td>[{&quot;MTA NYCT_lmm:planned_work:18177&quot;}, {&quot;MTABC_lmm:planned_work:23593&quot;}]</td><td>null</td><td>null</td><td>&quot;8443&quot;</td></tr><tr><td>&quot;MTA NYCT_M4&quot;</td><td>&quot;0&quot;</td><td>{&quot;2025-05-30&quot;,&quot;MTA NYCT_MV_B5-Weekday-SDon-118500_M4_436&quot;}</td><td>[&quot;M4&quot;]</td><td>&quot;MTA_400636&quot;</td><td>[&quot;WSHNGTN HTS CABRINI via MADISON via BWAY&quot;]</td><td>true</td><td>{-73.961868,40.776666}</td><td>53.753784</td><td>&quot;normalProgress&quot;</td><td>&quot;seatsAvailable&quot;</td><td>&quot;MTA NYCT_9775&quot;</td><td>{&quot;2025-05-30T20:08:12.737-04:00&quot;,null,&quot;at stop&quot;,null,0,0,{{12,80,&quot;manySeatsAvailable&quot;}},1,[&quot;MADISON AV/E 79 ST&quot;]}</td><td>[{&quot;MTA NYCT_lmm:planned_work:24031&quot;}]</td><td>null</td><td>null</td><td>&quot;9775&quot;</td></tr><tr><td>&hellip;</td><td>&hellip;</td><td>&hellip;</td><td>&hellip;</td><td>&hellip;</td><td>&hellip;</td><td>&hellip;</td><td>&hellip;</td><td>&hellip;</td><td>&hellip;</td><td>&hellip;</td><td>&hellip;</td><td>&hellip;</td><td>&hellip;</td><td>&hellip;</td><td>&hellip;</td><td>&hellip;</td></tr><tr><td>&quot;MTABC_Q10&quot;</td><td>&quot;1&quot;</td><td>{&quot;2025-05-30&quot;,&quot;MTABC_42506931-JKPB5-JK_B5-Weekday-02-SDon&quot;}</td><td>[&quot;Q10&quot;]</td><td>&quot;MTA_982006&quot;</td><td>[&quot;JFK AIRPORT via LEFFERTS BL via 130 ST&quot;]</td><td>true</td><td>{-73.811481,40.66103}</td><td>168.97156</td><td>&quot;normalProgress&quot;</td><td>null</td><td>&quot;MTABC_5376&quot;</td><td>{&quot;2025-05-30T20:13:00.092-04:00&quot;,&quot;2025-05-30T20:14:35.852-04:00&quot;,&quot;0.9 miles away&quot;,&quot;2025-05-30T20:14:35.852-04:00&quot;,1395,0,null,1,[&quot;LEFFERTS BLVD/AIRTRAIN STATION&quot;]}</td><td>[{&quot;MTABC_lmm:planned_work:23593&quot;}]</td><td>null</td><td>null</td><td>&quot;5376&quot;</td></tr><tr><td>&quot;MTABC_Q52+&quot;</td><td>&quot;1&quot;</td><td>{&quot;2025-05-30&quot;,&quot;MTABC_42508270-JKPB5-JK_B5-Weekday-02-SDon&quot;}</td><td>[&quot;Q52-SBS&quot;]</td><td>&quot;MTA_553336&quot;</td><td>[&quot;+SELECT BUS ARVERNE B. 54 ST via WOODHAVEN BL via CROSS BAY BL&quot;]</td><td>true</td><td>{-73.840088,40.659566}</td><td>284.24493</td><td>&quot;normalProgress&quot;</td><td>&quot;seatsAvailable&quot;</td><td>&quot;MTABC_5378&quot;</td><td>{&quot;2025-05-30T20:10:13.096-04:00&quot;,&quot;2025-05-30T20:14:04.720-04:00&quot;,&quot;&lt; 1 stop away&quot;,&quot;2025-05-30T20:14:04.720-04:00&quot;,783,0,{{8,100,&quot;manySeatsAvailable&quot;}},1,[&quot;CROSS BAY BLVD/163 AV&quot;]}</td><td>[{&quot;MTABC_lmm:planned_work:16452&quot;}, {&quot;MTABC_lmm:planned_work:23593&quot;}]</td><td>null</td><td>null</td><td>&quot;5378&quot;</td></tr><tr><td>&quot;MTABC_Q10&quot;</td><td>&quot;1&quot;</td><td>{&quot;2025-05-30&quot;,&quot;MTABC_42506820-JKPB5-JK_B5-Weekday-02-SDon&quot;}</td><td>[&quot;Q10&quot;]</td><td>&quot;MTA_550290&quot;</td><td>[&quot;150 AV via LEFFERTS BL via 130 ST&quot;]</td><td>true</td><td>{-73.829534,40.713627}</td><td>336.4589</td><td>&quot;normalProgress&quot;</td><td>null</td><td>&quot;MTABC_5372&quot;</td><td>{&quot;2025-05-30T20:11:56.102-04:00&quot;,&quot;2025-05-30T20:15:00.112-04:00&quot;,&quot;&lt; 1 stop away&quot;,&quot;2025-05-30T20:15:00.112-04:00&quot;,754,0,null,1,[&quot;LEFFERTS BLVD/AUSTIN ST&quot;]}</td><td>[{&quot;MTABC_lmm:planned_work:23593&quot;}]</td><td>null</td><td>null</td><td>&quot;5372&quot;</td></tr><tr><td>&quot;MTABC_Q113&quot;</td><td>&quot;1&quot;</td><td>{&quot;2025-05-30&quot;,&quot;MTABC_42617344-BPPB5-BP_B5-Weekday-02-SDon&quot;}</td><td>[&quot;Q113&quot;]</td><td>&quot;MTA_552502&quot;</td><td>[&quot;LIMITED FAR ROCKAWAY SEAGIRT BL via BREWER BL/NASSAU EXPWY&quot;]</td><td>true</td><td>{-73.746648,40.60922}</td><td>203.85555</td><td>&quot;normalProgress&quot;</td><td>&quot;seatsAvailable&quot;</td><td>&quot;MTABC_5374&quot;</td><td>{&quot;2025-05-30T20:15:00.108-04:00&quot;,&quot;2025-05-30T20:14:31.699-04:00&quot;,&quot;&lt; 1 stop away&quot;,&quot;2025-05-30T20:14:31.699-04:00&quot;,791,0,{{23,100,&quot;manySeatsAvailable&quot;}},1,[&quot;MOTT AV /BEACH 20 ST&quot;]}</td><td>[{&quot;MTABC_lmm:planned_work:23593&quot;}]</td><td>null</td><td>null</td><td>&quot;5374&quot;</td></tr><tr><td>&quot;MTABC_Q10&quot;</td><td>&quot;1&quot;</td><td>{&quot;2025-05-30&quot;,&quot;MTABC_42506931-JKPB5-JK_B5-Weekday-02-SDon&quot;}</td><td>[&quot;Q10&quot;]</td><td>&quot;MTA_982006&quot;</td><td>[&quot;JFK AIRPORT via LEFFERTS BL via 130 ST&quot;]</td><td>true</td><td>{-73.824906,40.661725}</td><td>167.46704</td><td>&quot;normalProgress&quot;</td><td>null</td><td>&quot;MTABC_5370&quot;</td><td>{&quot;2025-05-30T20:13:00.114-04:00&quot;,&quot;2025-05-30T20:11:48.168-04:00&quot;,&quot;approaching&quot;,&quot;2025-05-30T20:11:48.168-04:00&quot;,106,0,null,1,[&quot;LEFFERTS BLVD/AIRTRAIN STATION&quot;]}</td><td>[{&quot;MTABC_lmm:planned_work:23593&quot;}]</td><td>null</td><td>null</td><td>&quot;5370&quot;</td></tr></tbody></table></div>"
      ],
      "text/plain": [
       "shape: (2_161, 17)\n",
       "┌───────────┬───────────┬───────────┬───────────┬───┬───────────┬───────────┬───────────┬──────────┐\n",
       "│ LineRef   ┆ Direction ┆ FramedVeh ┆ Published ┆ … ┆ Situation ┆ OriginAim ┆ ProgressS ┆ vehicle_ │\n",
       "│ ---       ┆ Ref       ┆ icleJourn ┆ LineName  ┆   ┆ Ref       ┆ edDepartu ┆ tatus     ┆ id       │\n",
       "│ str       ┆ ---       ┆ eyRef     ┆ ---       ┆   ┆ ---       ┆ reTime    ┆ ---       ┆ ---      │\n",
       "│           ┆ str       ┆ ---       ┆ list[str] ┆   ┆ list[stru ┆ ---       ┆ list[str] ┆ str      │\n",
       "│           ┆           ┆ struct[2] ┆           ┆   ┆ ct[1]]    ┆ str       ┆           ┆          │\n",
       "╞═══════════╪═══════════╪═══════════╪═══════════╪═══╪═══════════╪═══════════╪═══════════╪══════════╡\n",
       "│ MTA       ┆ 1         ┆ {\"2025-05 ┆ [\"Bx28\"]  ┆ … ┆ null      ┆ null      ┆ null      ┆ 9771     │\n",
       "│ NYCT_BX28 ┆           ┆ -30\",\"MTA ┆           ┆   ┆           ┆           ┆           ┆          │\n",
       "│           ┆           ┆ NYCT_GH_B ┆           ┆   ┆           ┆           ┆           ┆          │\n",
       "│           ┆           ┆ 5-…       ┆           ┆   ┆           ┆           ┆           ┆          │\n",
       "│ MTA       ┆ 0         ┆ {\"2025-05 ┆ [\"Q17\"]   ┆ … ┆ [{\"MTABC_ ┆ null      ┆ null      ┆ 8440     │\n",
       "│ NYCT_Q17  ┆           ┆ -30\",\"MTA ┆           ┆   ┆ lmm:plann ┆           ┆           ┆          │\n",
       "│           ┆           ┆ NYCT_JA_B ┆           ┆   ┆ ed_work:2 ┆           ┆           ┆          │\n",
       "│           ┆           ┆ 5-…       ┆           ┆   ┆ 359…      ┆           ┆           ┆          │\n",
       "│ MTA       ┆ 0         ┆ {\"2025-05 ┆ [\"Bx29\"]  ┆ … ┆ null      ┆ null      ┆ null      ┆ 9770     │\n",
       "│ NYCT_BX29 ┆           ┆ -30\",\"MTA ┆           ┆   ┆           ┆           ┆           ┆          │\n",
       "│           ┆           ┆ NYCT_GH_B ┆           ┆   ┆           ┆           ┆           ┆          │\n",
       "│           ┆           ┆ 5-…       ┆           ┆   ┆           ┆           ┆           ┆          │\n",
       "│ MTA       ┆ 1         ┆ {\"2025-05 ┆ [\"Q84\"]   ┆ … ┆ [{\"MTA    ┆ null      ┆ null      ┆ 8443     │\n",
       "│ NYCT_Q84  ┆           ┆ -30\",\"MTA ┆           ┆   ┆ NYCT_lmm: ┆           ┆           ┆          │\n",
       "│           ┆           ┆ NYCT_JA_B ┆           ┆   ┆ planned_w ┆           ┆           ┆          │\n",
       "│           ┆           ┆ 5-…       ┆           ┆   ┆ ork:1…    ┆           ┆           ┆          │\n",
       "│ MTA       ┆ 0         ┆ {\"2025-05 ┆ [\"M4\"]    ┆ … ┆ [{\"MTA    ┆ null      ┆ null      ┆ 9775     │\n",
       "│ NYCT_M4   ┆           ┆ -30\",\"MTA ┆           ┆   ┆ NYCT_lmm: ┆           ┆           ┆          │\n",
       "│           ┆           ┆ NYCT_MV_B ┆           ┆   ┆ planned_w ┆           ┆           ┆          │\n",
       "│           ┆           ┆ 5-…       ┆           ┆   ┆ ork:2…    ┆           ┆           ┆          │\n",
       "│ …         ┆ …         ┆ …         ┆ …         ┆ … ┆ …         ┆ …         ┆ …         ┆ …        │\n",
       "│ MTABC_Q10 ┆ 1         ┆ {\"2025-05 ┆ [\"Q10\"]   ┆ … ┆ [{\"MTABC_ ┆ null      ┆ null      ┆ 5376     │\n",
       "│           ┆           ┆ -30\",\"MTA ┆           ┆   ┆ lmm:plann ┆           ┆           ┆          │\n",
       "│           ┆           ┆ BC_425069 ┆           ┆   ┆ ed_work:2 ┆           ┆           ┆          │\n",
       "│           ┆           ┆ 31-…      ┆           ┆   ┆ 359…      ┆           ┆           ┆          │\n",
       "│ MTABC_Q52 ┆ 1         ┆ {\"2025-05 ┆ [\"Q52-SBS ┆ … ┆ [{\"MTABC_ ┆ null      ┆ null      ┆ 5378     │\n",
       "│ +         ┆           ┆ -30\",\"MTA ┆ \"]        ┆   ┆ lmm:plann ┆           ┆           ┆          │\n",
       "│           ┆           ┆ BC_425082 ┆           ┆   ┆ ed_work:1 ┆           ┆           ┆          │\n",
       "│           ┆           ┆ 70-…      ┆           ┆   ┆ 645…      ┆           ┆           ┆          │\n",
       "│ MTABC_Q10 ┆ 1         ┆ {\"2025-05 ┆ [\"Q10\"]   ┆ … ┆ [{\"MTABC_ ┆ null      ┆ null      ┆ 5372     │\n",
       "│           ┆           ┆ -30\",\"MTA ┆           ┆   ┆ lmm:plann ┆           ┆           ┆          │\n",
       "│           ┆           ┆ BC_425068 ┆           ┆   ┆ ed_work:2 ┆           ┆           ┆          │\n",
       "│           ┆           ┆ 20-…      ┆           ┆   ┆ 359…      ┆           ┆           ┆          │\n",
       "│ MTABC_Q11 ┆ 1         ┆ {\"2025-05 ┆ [\"Q113\"]  ┆ … ┆ [{\"MTABC_ ┆ null      ┆ null      ┆ 5374     │\n",
       "│ 3         ┆           ┆ -30\",\"MTA ┆           ┆   ┆ lmm:plann ┆           ┆           ┆          │\n",
       "│           ┆           ┆ BC_426173 ┆           ┆   ┆ ed_work:2 ┆           ┆           ┆          │\n",
       "│           ┆           ┆ 44-…      ┆           ┆   ┆ 359…      ┆           ┆           ┆          │\n",
       "│ MTABC_Q10 ┆ 1         ┆ {\"2025-05 ┆ [\"Q10\"]   ┆ … ┆ [{\"MTABC_ ┆ null      ┆ null      ┆ 5370     │\n",
       "│           ┆           ┆ -30\",\"MTA ┆           ┆   ┆ lmm:plann ┆           ┆           ┆          │\n",
       "│           ┆           ┆ BC_425069 ┆           ┆   ┆ ed_work:2 ┆           ┆           ┆          │\n",
       "│           ┆           ┆ 31-…      ┆           ┆   ┆ 359…      ┆           ┆           ┆          │\n",
       "└───────────┴───────────┴───────────┴───────────┴───┴───────────┴───────────┴───────────┴──────────┘"
      ]
     },
     "metadata": {},
     "output_type": "display_data"
    }
   ],
   "source": [
    "display(df_oba, df_siri)"
   ]
  },
  {
   "cell_type": "code",
   "execution_count": 6,
   "metadata": {},
   "outputs": [
    {
     "data": {
      "text/plain": [
       "'OBA difference:'"
      ]
     },
     "metadata": {},
     "output_type": "display_data"
    },
    {
     "data": {
      "text/html": [
       "<div><style>\n",
       ".dataframe > thead > tr,\n",
       ".dataframe > tbody > tr {\n",
       "  text-align: right;\n",
       "  white-space: pre-wrap;\n",
       "}\n",
       "</style>\n",
       "<small>shape: (3_057,)</small><table border=\"1\" class=\"dataframe\"><thead><tr><th>vehicle_id</th></tr><tr><td>str</td></tr></thead><tbody><tr><td>&quot;9128&quot;</td></tr><tr><td>&quot;9129&quot;</td></tr><tr><td>&quot;9124&quot;</td></tr><tr><td>&quot;9125&quot;</td></tr><tr><td>&quot;9123&quot;</td></tr><tr><td>&hellip;</td></tr><tr><td>&quot;2544&quot;</td></tr><tr><td>&quot;2546&quot;</td></tr><tr><td>&quot;2547&quot;</td></tr><tr><td>&quot;2548&quot;</td></tr><tr><td>&quot;2549&quot;</td></tr></tbody></table></div>"
      ],
      "text/plain": [
       "shape: (3_057,)\n",
       "Series: 'vehicle_id' [str]\n",
       "[\n",
       "\t\"9128\"\n",
       "\t\"9129\"\n",
       "\t\"9124\"\n",
       "\t\"9125\"\n",
       "\t\"9123\"\n",
       "\t…\n",
       "\t\"2544\"\n",
       "\t\"2546\"\n",
       "\t\"2547\"\n",
       "\t\"2548\"\n",
       "\t\"2549\"\n",
       "]"
      ]
     },
     "metadata": {},
     "output_type": "display_data"
    }
   ],
   "source": [
    "siri_vehicle_ids = df_siri[\"vehicle_id\"]\n",
    "oba_vehicle_ids = df_oba[\"vehicle_id\"]\n",
    "\n",
    "\n",
    "display(\n",
    "    \"OBA difference:\", oba_vehicle_ids.filter(~oba_vehicle_ids.is_in(siri_vehicle_ids))\n",
    ")\n",
    "# display(\"difference:\", siri_vehicle_ids.filter(~siri_vehicle_ids.is_in(oba_vehicle_ids)))"
   ]
  },
  {
   "cell_type": "code",
   "execution_count": 7,
   "metadata": {},
   "outputs": [
    {
     "data": {
      "text/html": [
       "<div><style>\n",
       ".dataframe > thead > tr,\n",
       ".dataframe > tbody > tr {\n",
       "  text-align: right;\n",
       "  white-space: pre-wrap;\n",
       "}\n",
       "</style>\n",
       "<small>shape: (0, 11)</small><table border=\"1\" class=\"dataframe\"><thead><tr><th>lastLocationUpdateTime</th><th>lastUpdateTime</th><th>location</th><th>occupancyCapacity</th><th>occupancyCount</th><th>occupancyStatus</th><th>phase</th><th>status</th><th>tripId</th><th>vehicleId</th><th>vehicle_id</th></tr><tr><td>i64</td><td>i64</td><td>struct[2]</td><td>i64</td><td>i64</td><td>i64</td><td>str</td><td>str</td><td>str</td><td>str</td><td>str</td></tr></thead><tbody></tbody></table></div>"
      ],
      "text/plain": [
       "shape: (0, 11)\n",
       "┌─────────────┬────────────┬───────────┬────────────┬───┬────────┬────────┬───────────┬────────────┐\n",
       "│ lastLocatio ┆ lastUpdate ┆ location  ┆ occupancyC ┆ … ┆ status ┆ tripId ┆ vehicleId ┆ vehicle_id │\n",
       "│ nUpdateTime ┆ Time       ┆ ---       ┆ apacity    ┆   ┆ ---    ┆ ---    ┆ ---       ┆ ---        │\n",
       "│ ---         ┆ ---        ┆ struct[2] ┆ ---        ┆   ┆ str    ┆ str    ┆ str       ┆ str        │\n",
       "│ i64         ┆ i64        ┆           ┆ i64        ┆   ┆        ┆        ┆           ┆            │\n",
       "╞═════════════╪════════════╪═══════════╪════════════╪═══╪════════╪════════╪═══════════╪════════════╡\n",
       "└─────────────┴────────────┴───────────┴────────────┴───┴────────┴────────┴───────────┴────────────┘"
      ]
     },
     "execution_count": 7,
     "metadata": {},
     "output_type": "execute_result"
    }
   ],
   "source": [
    "filtered_df = df_oba.filter(\n",
    "    pl.col(\"lastLocationUpdateTime\") != pl.col(\"lastUpdateTime\")\n",
    ")\n",
    "# rows are equal\n",
    "# print(f\"Total rows: {len(df)}\")\n",
    "# print(f\"Filtered rows: {len(filtered_df)}\")\n",
    "# filtered_df.head(5)\n",
    "filtered_df"
   ]
  },
  {
   "cell_type": "code",
   "execution_count": 8,
   "metadata": {},
   "outputs": [
    {
     "name": "stdout",
     "output_type": "stream",
     "text": [
      "Siri vehicle IDs not in OBA: shape: (0,)\n",
      "Series: 'vehicle_id' [str]\n",
      "[\n",
      "]\n"
     ]
    }
   ],
   "source": [
    "siri_diff = siri_vehicle_ids.filter(~siri_vehicle_ids.is_in(oba_vehicle_ids))\n",
    "print(f\"Siri vehicle IDs not in OBA: {siri_diff}\")"
   ]
  },
  {
   "cell_type": "code",
   "execution_count": 9,
   "metadata": {},
   "outputs": [
    {
     "data": {
      "text/html": [
       "<div><style>\n",
       ".dataframe > thead > tr,\n",
       ".dataframe > tbody > tr {\n",
       "  text-align: right;\n",
       "  white-space: pre-wrap;\n",
       "}\n",
       "</style>\n",
       "<small>shape: (7, 2)</small><table border=\"1\" class=\"dataframe\"><thead><tr><th>phase</th><th>count</th></tr><tr><td>str</td><td>u32</td></tr></thead><tbody><tr><td>&quot;layover_before&quot;</td><td>3</td></tr><tr><td>&quot;in_progress&quot;</td><td>1912</td></tr><tr><td>&quot;deadhead_during&quot;</td><td>431</td></tr><tr><td>&quot;at_base&quot;</td><td>2015</td></tr><tr><td>&quot;layover_during&quot;</td><td>281</td></tr><tr><td>&quot;spooking&quot;</td><td>19</td></tr><tr><td>&quot;deadhead_before&quot;</td><td>557</td></tr></tbody></table></div>"
      ],
      "text/plain": [
       "shape: (7, 2)\n",
       "┌─────────────────┬───────┐\n",
       "│ phase           ┆ count │\n",
       "│ ---             ┆ ---   │\n",
       "│ str             ┆ u32   │\n",
       "╞═════════════════╪═══════╡\n",
       "│ layover_before  ┆ 3     │\n",
       "│ in_progress     ┆ 1912  │\n",
       "│ deadhead_during ┆ 431   │\n",
       "│ at_base         ┆ 2015  │\n",
       "│ layover_during  ┆ 281   │\n",
       "│ spooking        ┆ 19    │\n",
       "│ deadhead_before ┆ 557   │\n",
       "└─────────────────┴───────┘"
      ]
     },
     "execution_count": 9,
     "metadata": {},
     "output_type": "execute_result"
    }
   ],
   "source": [
    "df_oba[\"phase\"].value_counts()"
   ]
  },
  {
   "cell_type": "code",
   "execution_count": null,
   "metadata": {},
   "outputs": [
    {
     "data": {
      "text/html": [
       "<div><style>\n",
       ".dataframe > thead > tr,\n",
       ".dataframe > tbody > tr {\n",
       "  text-align: right;\n",
       "  white-space: pre-wrap;\n",
       "}\n",
       "</style>\n",
       "<small>shape: (3, 2)</small><table border=\"1\" class=\"dataframe\"><thead><tr><th>ProgressRate</th><th>count</th></tr><tr><td>str</td><td>u32</td></tr></thead><tbody><tr><td>&quot;normalProgress&quot;</td><td>3203</td></tr><tr><td>&quot;noProgress&quot;</td><td>318</td></tr><tr><td>&quot;unknown&quot;</td><td>1</td></tr></tbody></table></div>"
      ],
      "text/plain": [
       "shape: (3, 2)\n",
       "┌────────────────┬───────┐\n",
       "│ ProgressRate   ┆ count │\n",
       "│ ---            ┆ ---   │\n",
       "│ str            ┆ u32   │\n",
       "╞════════════════╪═══════╡\n",
       "│ normalProgress ┆ 3203  │\n",
       "│ noProgress     ┆ 318   │\n",
       "│ unknown        ┆ 1     │\n",
       "└────────────────┴───────┘"
      ]
     },
     "execution_count": 37,
     "metadata": {},
     "output_type": "execute_result"
    }
   ],
   "source": [
    "df_siri[\"ProgressRate\"].value_counts()"
   ]
  },
  {
   "cell_type": "code",
   "execution_count": null,
   "metadata": {},
   "outputs": [
    {
     "data": {
      "text/html": [
       "<div><style>\n",
       ".dataframe > thead > tr,\n",
       ".dataframe > tbody > tr {\n",
       "  text-align: right;\n",
       "  white-space: pre-wrap;\n",
       "}\n",
       "</style>\n",
       "<small>shape: (3, 2)</small><table border=\"1\" class=\"dataframe\"><thead><tr><th>ProgressStatus</th><th>count</th></tr><tr><td>list[str]</td><td>u32</td></tr></thead><tbody><tr><td>[&quot;layover&quot;]</td><td>309</td></tr><tr><td>null</td><td>3212</td></tr><tr><td>[&quot;spooking&quot;]</td><td>1</td></tr></tbody></table></div>"
      ],
      "text/plain": [
       "shape: (3, 2)\n",
       "┌────────────────┬───────┐\n",
       "│ ProgressStatus ┆ count │\n",
       "│ ---            ┆ ---   │\n",
       "│ list[str]      ┆ u32   │\n",
       "╞════════════════╪═══════╡\n",
       "│ [\"layover\"]    ┆ 309   │\n",
       "│ null           ┆ 3212  │\n",
       "│ [\"spooking\"]   ┆ 1     │\n",
       "└────────────────┴───────┘"
      ]
     },
     "execution_count": 39,
     "metadata": {},
     "output_type": "execute_result"
    }
   ],
   "source": [
    "df_siri[\"ProgressStatus\"].value_counts()"
   ]
  }
 ],
 "metadata": {
  "kernelspec": {
   "display_name": ".venv",
   "language": "python",
   "name": "python3"
  },
  "language_info": {
   "codemirror_mode": {
    "name": "ipython",
    "version": 3
   },
   "file_extension": ".py",
   "mimetype": "text/x-python",
   "name": "python",
   "nbconvert_exporter": "python",
   "pygments_lexer": "ipython3",
   "version": "3.13.3"
  }
 },
 "nbformat": 4,
 "nbformat_minor": 2
}
