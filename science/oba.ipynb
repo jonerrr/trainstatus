{
 "cells": [
  {
   "cell_type": "code",
   "execution_count": 25,
   "metadata": {},
   "outputs": [],
   "source": [
    "import polars as pl\n",
    "import requests\n",
    "import shapely"
   ]
  },
  {
   "cell_type": "code",
   "execution_count": 26,
   "metadata": {},
   "outputs": [],
   "source": [
    "r = requests.get(\n",
    "    \"http://bustime.mta.info/api/where/vehicles-for-agency/MTABC.json?key=OBANYC\"\n",
    ").json()\n",
    "df_oba = pl.from_dicts(r[\"data\"][\"list\"])\n",
    "r = requests.get(\n",
    "    \"http://bustime.mta.info/api/where/vehicles-for-agency/MTA NYCT.json?key=OBANYC\"\n",
    ").json()\n",
    "# combine the two dataframes\n",
    "df_oba = pl.concat([df_oba, pl.from_dicts(r[\"data\"][\"list\"])])"
   ]
  },
  {
   "cell_type": "code",
   "execution_count": 29,
   "metadata": {},
   "outputs": [],
   "source": [
    "r = requests.get(\n",
    "    \"https://bustime.mta.info/api/siri/vehicle-monitoring.json?key=OBANYC&version=2\"\n",
    ").json()\n",
    "parsed = [\n",
    "    v[\"MonitoredVehicleJourney\"]\n",
    "    for v in r[\"Siri\"][\"ServiceDelivery\"][\"VehicleMonitoringDelivery\"][0][\n",
    "        \"VehicleActivity\"\n",
    "    ]\n",
    "]\n",
    "df_siri = pl.from_dicts(\n",
    "    parsed\n",
    "    # r[\"Siri\"][\"ServiceDelivery\"][\"VehicleMonitoringDelivery\"][0][\"VehicleActivity\"]\n",
    ")"
   ]
  },
  {
   "cell_type": "code",
   "execution_count": 30,
   "metadata": {},
   "outputs": [],
   "source": [
    "df_siri = df_siri.with_columns(\n",
    "    pl.col(\"VehicleRef\").str.split(\"_\").list.last().alias(\"vehicle_id\")\n",
    ")\n",
    "df_oba = df_oba.with_columns(\n",
    "    pl.col(\"vehicleId\").str.split(\"_\").list.last().alias(\"vehicle_id\")\n",
    ")\n",
    "# [\n",
    "#     \"VehicleID\"\n",
    "# ]\n",
    "# create polars series with vehicle IDs"
   ]
  },
  {
   "cell_type": "code",
   "execution_count": 31,
   "metadata": {},
   "outputs": [
    {
     "data": {
      "text/html": [
       "<div><style>\n",
       ".dataframe > thead > tr,\n",
       ".dataframe > tbody > tr {\n",
       "  text-align: right;\n",
       "  white-space: pre-wrap;\n",
       "}\n",
       "</style>\n",
       "<small>shape: (4_866, 11)</small><table border=\"1\" class=\"dataframe\"><thead><tr><th>lastLocationUpdateTime</th><th>lastUpdateTime</th><th>location</th><th>occupancyCapacity</th><th>occupancyCount</th><th>occupancyStatus</th><th>phase</th><th>status</th><th>tripId</th><th>vehicleId</th><th>vehicle_id</th></tr><tr><td>i64</td><td>i64</td><td>struct[2]</td><td>i64</td><td>i64</td><td>i64</td><td>str</td><td>str</td><td>str</td><td>str</td><td>str</td></tr></thead><tbody><tr><td>1748556018286</td><td>1748556018286</td><td>{40.67074,-73.820841}</td><td>80</td><td>8</td><td>1</td><td>&quot;in_progress&quot;</td><td>&quot;blockInf&quot;</td><td>&quot;MTABC_42507323-JKPB5-JK_B5-Wee…</td><td>&quot;MTABC_9128&quot;</td><td>&quot;9128&quot;</td></tr><tr><td>1748556027304</td><td>1748556027304</td><td>{40.677197,-73.825248}</td><td>null</td><td>null</td><td>null</td><td>&quot;in_progress&quot;</td><td>&quot;blockInf&quot;</td><td>&quot;MTABC_42505703-JKPB5-JK_B5-Wee…</td><td>&quot;MTABC_9129&quot;</td><td>&quot;9129&quot;</td></tr><tr><td>1748556017000</td><td>1748556017000</td><td>{40.706605,-73.83804}</td><td>80</td><td>27</td><td>1</td><td>&quot;in_progress&quot;</td><td>&quot;blockInf&quot;</td><td>&quot;MTABC_42507311-JKPB5-JK_B5-Wee…</td><td>&quot;MTABC_9126&quot;</td><td>&quot;9126&quot;</td></tr><tr><td>1748556023000</td><td>1748556023000</td><td>{40.701889,-73.804176}</td><td>80</td><td>13</td><td>1</td><td>&quot;deadhead_during&quot;</td><td>&quot;blockInf&quot;</td><td>&quot;MTABC_42506271-JKPB5-JK_B5-Wee…</td><td>&quot;MTABC_9127&quot;</td><td>&quot;9127&quot;</td></tr><tr><td>1748556031362</td><td>1748556031362</td><td>{40.678789,-73.833731}</td><td>null</td><td>null</td><td>null</td><td>&quot;in_progress&quot;</td><td>&quot;blockInf&quot;</td><td>&quot;MTABC_42506390-JKPB5-JK_B5-Wee…</td><td>&quot;MTABC_9124&quot;</td><td>&quot;9124&quot;</td></tr><tr><td>&hellip;</td><td>&hellip;</td><td>&hellip;</td><td>&hellip;</td><td>&hellip;</td><td>&hellip;</td><td>&hellip;</td><td>&hellip;</td><td>&hellip;</td><td>&hellip;</td><td>&hellip;</td></tr><tr><td>1748556044000</td><td>1748556044000</td><td>{40.711751,-74.010331}</td><td>65</td><td>4</td><td>1</td><td>&quot;in_progress&quot;</td><td>&quot;blockInf&quot;</td><td>&quot;MTA NYCT_YU_B5-Weekday-SDon-10…</td><td>&quot;MTA NYCT_2545&quot;</td><td>&quot;2545&quot;</td></tr><tr><td>1748556024000</td><td>1748556024000</td><td>{40.656158,-74.005615}</td><td>null</td><td>null</td><td>null</td><td>&quot;deadhead_during&quot;</td><td>&quot;default&quot;</td><td>&quot;MTA NYCT_YU_B5-Weekday-SDon-09…</td><td>&quot;MTA NYCT_2546&quot;</td><td>&quot;2546&quot;</td></tr><tr><td>1748556040000</td><td>1748556040000</td><td>{40.646243,-74.016172}</td><td>null</td><td>null</td><td>null</td><td>&quot;in_progress&quot;</td><td>&quot;blockInf&quot;</td><td>&quot;MTA NYCT_YU_B5-Weekday-SDon-10…</td><td>&quot;MTA NYCT_2547&quot;</td><td>&quot;2547&quot;</td></tr><tr><td>1748556025000</td><td>1748556025000</td><td>{40.574993,-74.105288}</td><td>65</td><td>30</td><td>3</td><td>&quot;in_progress&quot;</td><td>&quot;blockInf&quot;</td><td>&quot;MTA NYCT_YU_B5-Weekday-SDon-10…</td><td>&quot;MTA NYCT_2548&quot;</td><td>&quot;2548&quot;</td></tr><tr><td>1748556008000</td><td>1748556008000</td><td>{40.758011,-73.997597}</td><td>65</td><td>18</td><td>2</td><td>&quot;in_progress&quot;</td><td>&quot;blockInf+deviated&quot;</td><td>&quot;MTA NYCT_YU_B5-Weekday-SDon-10…</td><td>&quot;MTA NYCT_2549&quot;</td><td>&quot;2549&quot;</td></tr></tbody></table></div>"
      ],
      "text/plain": [
       "shape: (4_866, 11)\n",
       "┌───────────┬───────────┬───────────┬───────────┬───┬───────────┬───────────┬───────────┬──────────┐\n",
       "│ lastLocat ┆ lastUpdat ┆ location  ┆ occupancy ┆ … ┆ status    ┆ tripId    ┆ vehicleId ┆ vehicle_ │\n",
       "│ ionUpdate ┆ eTime     ┆ ---       ┆ Capacity  ┆   ┆ ---       ┆ ---       ┆ ---       ┆ id       │\n",
       "│ Time      ┆ ---       ┆ struct[2] ┆ ---       ┆   ┆ str       ┆ str       ┆ str       ┆ ---      │\n",
       "│ ---       ┆ i64       ┆           ┆ i64       ┆   ┆           ┆           ┆           ┆ str      │\n",
       "│ i64       ┆           ┆           ┆           ┆   ┆           ┆           ┆           ┆          │\n",
       "╞═══════════╪═══════════╪═══════════╪═══════════╪═══╪═══════════╪═══════════╪═══════════╪══════════╡\n",
       "│ 174855601 ┆ 174855601 ┆ {40.67074 ┆ 80        ┆ … ┆ blockInf  ┆ MTABC_425 ┆ MTABC_912 ┆ 9128     │\n",
       "│ 8286      ┆ 8286      ┆ ,-73.8208 ┆           ┆   ┆           ┆ 07323-JKP ┆ 8         ┆          │\n",
       "│           ┆           ┆ 41}       ┆           ┆   ┆           ┆ B5-JK_B5- ┆           ┆          │\n",
       "│           ┆           ┆           ┆           ┆   ┆           ┆ Wee…      ┆           ┆          │\n",
       "│ 174855602 ┆ 174855602 ┆ {40.67719 ┆ null      ┆ … ┆ blockInf  ┆ MTABC_425 ┆ MTABC_912 ┆ 9129     │\n",
       "│ 7304      ┆ 7304      ┆ 7,-73.825 ┆           ┆   ┆           ┆ 05703-JKP ┆ 9         ┆          │\n",
       "│           ┆           ┆ 248}      ┆           ┆   ┆           ┆ B5-JK_B5- ┆           ┆          │\n",
       "│           ┆           ┆           ┆           ┆   ┆           ┆ Wee…      ┆           ┆          │\n",
       "│ 174855601 ┆ 174855601 ┆ {40.70660 ┆ 80        ┆ … ┆ blockInf  ┆ MTABC_425 ┆ MTABC_912 ┆ 9126     │\n",
       "│ 7000      ┆ 7000      ┆ 5,-73.838 ┆           ┆   ┆           ┆ 07311-JKP ┆ 6         ┆          │\n",
       "│           ┆           ┆ 04}       ┆           ┆   ┆           ┆ B5-JK_B5- ┆           ┆          │\n",
       "│           ┆           ┆           ┆           ┆   ┆           ┆ Wee…      ┆           ┆          │\n",
       "│ 174855602 ┆ 174855602 ┆ {40.70188 ┆ 80        ┆ … ┆ blockInf  ┆ MTABC_425 ┆ MTABC_912 ┆ 9127     │\n",
       "│ 3000      ┆ 3000      ┆ 9,-73.804 ┆           ┆   ┆           ┆ 06271-JKP ┆ 7         ┆          │\n",
       "│           ┆           ┆ 176}      ┆           ┆   ┆           ┆ B5-JK_B5- ┆           ┆          │\n",
       "│           ┆           ┆           ┆           ┆   ┆           ┆ Wee…      ┆           ┆          │\n",
       "│ 174855603 ┆ 174855603 ┆ {40.67878 ┆ null      ┆ … ┆ blockInf  ┆ MTABC_425 ┆ MTABC_912 ┆ 9124     │\n",
       "│ 1362      ┆ 1362      ┆ 9,-73.833 ┆           ┆   ┆           ┆ 06390-JKP ┆ 4         ┆          │\n",
       "│           ┆           ┆ 731}      ┆           ┆   ┆           ┆ B5-JK_B5- ┆           ┆          │\n",
       "│           ┆           ┆           ┆           ┆   ┆           ┆ Wee…      ┆           ┆          │\n",
       "│ …         ┆ …         ┆ …         ┆ …         ┆ … ┆ …         ┆ …         ┆ …         ┆ …        │\n",
       "│ 174855604 ┆ 174855604 ┆ {40.71175 ┆ 65        ┆ … ┆ blockInf  ┆ MTA NYCT_ ┆ MTA       ┆ 2545     │\n",
       "│ 4000      ┆ 4000      ┆ 1,-74.010 ┆           ┆   ┆           ┆ YU_B5-Wee ┆ NYCT_2545 ┆          │\n",
       "│           ┆           ┆ 331}      ┆           ┆   ┆           ┆ kday-SDon ┆           ┆          │\n",
       "│           ┆           ┆           ┆           ┆   ┆           ┆ -10…      ┆           ┆          │\n",
       "│ 174855602 ┆ 174855602 ┆ {40.65615 ┆ null      ┆ … ┆ default   ┆ MTA NYCT_ ┆ MTA       ┆ 2546     │\n",
       "│ 4000      ┆ 4000      ┆ 8,-74.005 ┆           ┆   ┆           ┆ YU_B5-Wee ┆ NYCT_2546 ┆          │\n",
       "│           ┆           ┆ 615}      ┆           ┆   ┆           ┆ kday-SDon ┆           ┆          │\n",
       "│           ┆           ┆           ┆           ┆   ┆           ┆ -09…      ┆           ┆          │\n",
       "│ 174855604 ┆ 174855604 ┆ {40.64624 ┆ null      ┆ … ┆ blockInf  ┆ MTA NYCT_ ┆ MTA       ┆ 2547     │\n",
       "│ 0000      ┆ 0000      ┆ 3,-74.016 ┆           ┆   ┆           ┆ YU_B5-Wee ┆ NYCT_2547 ┆          │\n",
       "│           ┆           ┆ 172}      ┆           ┆   ┆           ┆ kday-SDon ┆           ┆          │\n",
       "│           ┆           ┆           ┆           ┆   ┆           ┆ -10…      ┆           ┆          │\n",
       "│ 174855602 ┆ 174855602 ┆ {40.57499 ┆ 65        ┆ … ┆ blockInf  ┆ MTA NYCT_ ┆ MTA       ┆ 2548     │\n",
       "│ 5000      ┆ 5000      ┆ 3,-74.105 ┆           ┆   ┆           ┆ YU_B5-Wee ┆ NYCT_2548 ┆          │\n",
       "│           ┆           ┆ 288}      ┆           ┆   ┆           ┆ kday-SDon ┆           ┆          │\n",
       "│           ┆           ┆           ┆           ┆   ┆           ┆ -10…      ┆           ┆          │\n",
       "│ 174855600 ┆ 174855600 ┆ {40.75801 ┆ 65        ┆ … ┆ blockInf+ ┆ MTA NYCT_ ┆ MTA       ┆ 2549     │\n",
       "│ 8000      ┆ 8000      ┆ 1,-73.997 ┆           ┆   ┆ deviated  ┆ YU_B5-Wee ┆ NYCT_2549 ┆          │\n",
       "│           ┆           ┆ 597}      ┆           ┆   ┆           ┆ kday-SDon ┆           ┆          │\n",
       "│           ┆           ┆           ┆           ┆   ┆           ┆ -10…      ┆           ┆          │\n",
       "└───────────┴───────────┴───────────┴───────────┴───┴───────────┴───────────┴───────────┴──────────┘"
      ]
     },
     "metadata": {},
     "output_type": "display_data"
    },
    {
     "data": {
      "text/html": [
       "<div><style>\n",
       ".dataframe > thead > tr,\n",
       ".dataframe > tbody > tr {\n",
       "  text-align: right;\n",
       "  white-space: pre-wrap;\n",
       "}\n",
       "</style>\n",
       "<small>shape: (3_522, 21)</small><table border=\"1\" class=\"dataframe\"><thead><tr><th>LineRef</th><th>DirectionRef</th><th>FramedVehicleJourneyRef</th><th>JourneyPatternRef</th><th>PublishedLineName</th><th>OperatorRef</th><th>OriginRef</th><th>DestinationRef</th><th>DestinationName</th><th>Monitored</th><th>VehicleLocation</th><th>Bearing</th><th>ProgressRate</th><th>Occupancy</th><th>BlockRef</th><th>VehicleRef</th><th>MonitoredCall</th><th>SituationRef</th><th>OriginAimedDepartureTime</th><th>ProgressStatus</th><th>vehicle_id</th></tr><tr><td>str</td><td>str</td><td>struct[2]</td><td>str</td><td>list[str]</td><td>str</td><td>str</td><td>str</td><td>list[str]</td><td>bool</td><td>struct[2]</td><td>f64</td><td>str</td><td>str</td><td>str</td><td>str</td><td>struct[10]</td><td>list[struct[1]]</td><td>str</td><td>list[str]</td><td>str</td></tr></thead><tbody><tr><td>&quot;MTA NYCT_BX38&quot;</td><td>&quot;0&quot;</td><td>{&quot;2025-05-29&quot;,&quot;MTA NYCT_GH_B5-Weekday-SDon-107500_BX256_510&quot;}</td><td>&quot;MTA_BX380150&quot;</td><td>[&quot;Bx38&quot;]</td><td>&quot;MTA NYCT&quot;</td><td>&quot;MTA_100652&quot;</td><td>&quot;MTA_802024&quot;</td><td>[&quot;CO-OP CITY BAY PLAZA via GUNHILL&quot;]</td><td>true</td><td>{-73.875597,40.879685}</td><td>334.57312</td><td>&quot;normalProgress&quot;</td><td>&quot;seatsAvailable&quot;</td><td>&quot;MTA NYCT_GH_B5-Weekday-SDon_E_…</td><td>&quot;MTA NYCT_9771&quot;</td><td>{&quot;2025-05-29T18:06:50.002-04:00&quot;,&quot;2025-05-29T18:03:23.030-04:00&quot;,&quot;&lt; 1 stop away&quot;,&quot;2025-05-29T18:03:23.030-04:00&quot;,236,0,{{21,80,&quot;manySeatsAvailable&quot;}},&quot;MTA_101863&quot;,1,[&quot;EAST GUN HILL RD/HULL AV&quot;]}</td><td>null</td><td>null</td><td>null</td><td>&quot;9771&quot;</td></tr><tr><td>&quot;MTA NYCT_BX28&quot;</td><td>&quot;0&quot;</td><td>{&quot;2025-05-29&quot;,&quot;MTA NYCT_GH_B5-Weekday-SDon-107100_BX238_630&quot;}</td><td>&quot;MTA_BX280725&quot;</td><td>[&quot;Bx28&quot;]</td><td>&quot;MTA NYCT&quot;</td><td>&quot;MTA_103042&quot;</td><td>&quot;MTA_101732&quot;</td><td>[&quot;CO-OP CITY EARHART LANE via GUNHILL&quot;]</td><td>true</td><td>{-73.894035,40.864878}</td><td>66.2505</td><td>&quot;normalProgress&quot;</td><td>&quot;seatsAvailable&quot;</td><td>&quot;MTA NYCT_GH_B5-Weekday-SDon_E_…</td><td>&quot;MTA NYCT_9770&quot;</td><td>{&quot;2025-05-29T17:52:34.017-04:00&quot;,&quot;2025-05-29T18:01:57.985-04:00&quot;,&quot;&lt; 1 stop away&quot;,&quot;2025-05-29T18:01:57.985-04:00&quot;,169,0,{{3,80,&quot;manySeatsAvailable&quot;}},&quot;MTA_102968&quot;,1,[&quot;EAST KINGSBRIDGE RD/GRAND CONCOURSE&quot;]}</td><td>null</td><td>null</td><td>null</td><td>&quot;9770&quot;</td></tr><tr><td>&quot;MTA NYCT_Q85&quot;</td><td>&quot;1&quot;</td><td>{&quot;2025-05-29&quot;,&quot;MTA NYCT_JA_B5-Weekday-SDon-105900_MISC_793&quot;}</td><td>&quot;MTA_Q850343&quot;</td><td>[&quot;Q85&quot;]</td><td>&quot;MTA NYCT&quot;</td><td>&quot;MTA_503105&quot;</td><td>&quot;MTA_505264&quot;</td><td>[&quot;JAMAICA PARSONS-ARCHER&quot;]</td><td>true</td><td>{-73.766576,40.675425}</td><td>148.86102</td><td>&quot;normalProgress&quot;</td><td>null</td><td>&quot;MTA NYCT_JA_B5-Weekday-SDon_E_…</td><td>&quot;MTA NYCT_8440&quot;</td><td>{&quot;2025-05-29T18:03:36.032-04:00&quot;,&quot;2025-05-29T18:02:04.355-04:00&quot;,&quot;&lt; 1 stop away&quot;,&quot;2025-05-29T18:02:04.355-04:00&quot;,176,0,null,&quot;MTA_500671&quot;,1,[&quot;BEDELL ST/133 AV&quot;]}</td><td>[{&quot;MTA NYCT_lmm:planned_work:18177&quot;}, {&quot;MTABC_lmm:planned_work:23593&quot;}]</td><td>null</td><td>null</td><td>&quot;8440&quot;</td></tr><tr><td>&quot;MTA NYCT_Q4&quot;</td><td>&quot;0&quot;</td><td>{&quot;2025-05-29&quot;,&quot;MTA NYCT_JA_B5-Weekday-SDon-108100_Q4_105&quot;}</td><td>&quot;MTA_Q040073&quot;</td><td>[&quot;Q4&quot;]</td><td>&quot;MTA NYCT&quot;</td><td>&quot;MTA_504470&quot;</td><td>&quot;MTA_904026&quot;</td><td>[&quot;CAMBRIA HEIGHTS 235 ST via LINDEN&quot;]</td><td>true</td><td>{-73.801094,40.702152}</td><td>15.01294</td><td>&quot;normalProgress&quot;</td><td>null</td><td>&quot;MTA NYCT_JA_B5-Weekday-SDon_E_…</td><td>&quot;MTA NYCT_8443&quot;</td><td>{&quot;2025-05-29T18:03:00.043-04:00&quot;,null,&quot;at stop&quot;,null,22,0,null,&quot;MTA_504470&quot;,1,[&quot;ARCHER AV/PARSONS BLVD&quot;]}</td><td>[{&quot;MTA NYCT_lmm:planned_work:18177&quot;}, {&quot;MTABC_lmm:planned_work:23593&quot;}]</td><td>null</td><td>null</td><td>&quot;8443&quot;</td></tr><tr><td>&quot;MTA NYCT_M2&quot;</td><td>&quot;0&quot;</td><td>{&quot;2025-05-29&quot;,&quot;MTA NYCT_MV_B5-Weekday-SDon-105500_M3_316&quot;}</td><td>&quot;MTA_M020092&quot;</td><td>[&quot;M2&quot;]</td><td>&quot;MTA NYCT&quot;</td><td>&quot;MTA_405527&quot;</td><td>&quot;MTA_903049&quot;</td><td>[&quot;LIMITED WASHINGTON HTS BROADWAY-168 ST&quot;]</td><td>true</td><td>{-73.99031,40.731588}</td><td>75.63648</td><td>&quot;noProgress&quot;</td><td>null</td><td>&quot;MTA NYCT_MV_B5-Weekday-SDon_E_…</td><td>&quot;MTA NYCT_9775&quot;</td><td>{&quot;2025-05-29T17:38:30.070-04:00&quot;,&quot;2025-05-29T18:03:32.129-04:00&quot;,&quot;&lt; 1 stop away&quot;,&quot;2025-05-29T18:03:32.129-04:00&quot;,457,0,null,&quot;MTA_404120&quot;,1,[&quot;UNION SQ EAST/E 15 ST&quot;]}</td><td>[{&quot;MTA NYCT_lmm:planned_work:23994&quot;}, {&quot;MTA NYCT_lmm:planned_work:23502&quot;}]</td><td>&quot;2025-05-29T17:35:00.000-04:00&quot;</td><td>[&quot;layover&quot;]</td><td>&quot;9775&quot;</td></tr><tr><td>&hellip;</td><td>&hellip;</td><td>&hellip;</td><td>&hellip;</td><td>&hellip;</td><td>&hellip;</td><td>&hellip;</td><td>&hellip;</td><td>&hellip;</td><td>&hellip;</td><td>&hellip;</td><td>&hellip;</td><td>&hellip;</td><td>&hellip;</td><td>&hellip;</td><td>&hellip;</td><td>&hellip;</td><td>&hellip;</td><td>&hellip;</td><td>&hellip;</td><td>&hellip;</td></tr><tr><td>&quot;MTABC_Q10&quot;</td><td>&quot;1&quot;</td><td>{&quot;2025-05-29&quot;,&quot;MTABC_42506878-JKPB5-JK_B5-Weekday-02-SDon&quot;}</td><td>&quot;MTA_Q100594&quot;</td><td>[&quot;Q10&quot;]</td><td>&quot;MTABC&quot;</td><td>&quot;MTA_550378&quot;</td><td>&quot;MTA_550290&quot;</td><td>[&quot;150 AV via LEFFERTS BL via 130 ST&quot;]</td><td>true</td><td>{-73.826172,40.690356}</td><td>296.60953</td><td>&quot;normalProgress&quot;</td><td>null</td><td>&quot;MTABC_JKPB5-JK_B5-Weekday-02-S…</td><td>&quot;MTABC_5376&quot;</td><td>{&quot;2025-05-29T18:04:07.700-04:00&quot;,&quot;2025-05-29T18:01:54.277-04:00&quot;,&quot;approaching&quot;,&quot;2025-05-29T18:01:54.277-04:00&quot;,35,0,null,&quot;MTA_550324&quot;,1,[&quot;LEFFERTS BLVD/101 AV&quot;]}</td><td>[{&quot;MTABC_lmm:planned_work:23593&quot;}]</td><td>null</td><td>null</td><td>&quot;5376&quot;</td></tr><tr><td>&quot;MTABC_Q52+&quot;</td><td>&quot;0&quot;</td><td>{&quot;2025-05-29&quot;,&quot;MTABC_42508322-JKPB5-JK_B5-Weekday-02-SDon&quot;}</td><td>&quot;MTA_SBS520045&quot;</td><td>[&quot;Q52-SBS&quot;]</td><td>&quot;MTABC&quot;</td><td>&quot;MTA_550797&quot;</td><td>&quot;MTA_982113&quot;</td><td>[&quot;+SELECT BUS ELMHURST WOODHAVEN BL STA via CROSS BAY BL&quot;]</td><td>true</td><td>{-73.852701,40.697223}</td><td>83.48991</td><td>&quot;normalProgress&quot;</td><td>&quot;seatsAvailable&quot;</td><td>&quot;MTABC_JKPB5-JK_B5-Weekday-02-S…</td><td>&quot;MTABC_5375&quot;</td><td>{&quot;2025-05-29T18:07:34.705-04:00&quot;,&quot;2025-05-29T18:03:42.285-04:00&quot;,&quot;&lt; 1 stop away&quot;,&quot;2025-05-29T18:03:42.285-04:00&quot;,639,0,{{36,100,&quot;fewSeatsAvailable&quot;}},&quot;MTA_550451&quot;,1,[&quot;WOODHAVEN BLVD/MYRTLE AV&quot;]}</td><td>[{&quot;MTABC_lmm:planned_work:23593&quot;}, {&quot;MTABC_lmm:planned_work:16452&quot;}]</td><td>null</td><td>null</td><td>&quot;5375&quot;</td></tr><tr><td>&quot;MTABC_Q10&quot;</td><td>&quot;1&quot;</td><td>{&quot;2025-05-29&quot;,&quot;MTABC_42506929-JKPB5-JK_B5-Weekday-02-SDon&quot;}</td><td>&quot;MTA_Q100595&quot;</td><td>[&quot;Q10&quot;]</td><td>&quot;MTABC&quot;</td><td>&quot;MTA_550349&quot;</td><td>&quot;MTA_982006&quot;</td><td>[&quot;JFK AIRPORT via LEFFERTS BL via 130 ST&quot;]</td><td>true</td><td>{-73.821218,40.680237}</td><td>296.90866</td><td>&quot;normalProgress&quot;</td><td>&quot;seatsAvailable&quot;</td><td>&quot;MTABC_JKPB5-JK_B5-Weekday-02-S…</td><td>&quot;MTABC_5377&quot;</td><td>{&quot;2025-05-29T17:56:52.711-04:00&quot;,null,&quot;&lt; 1 stop away&quot;,null,192,0,{{34,100,&quot;manySeatsAvailable&quot;}},&quot;MTA_550312&quot;,1,[&quot;LEFFERTS BLVD/LINDEN BLVD&quot;]}</td><td>[{&quot;MTABC_lmm:planned_work:23593&quot;}]</td><td>null</td><td>null</td><td>&quot;5377&quot;</td></tr><tr><td>&quot;MTABC_Q10&quot;</td><td>&quot;0&quot;</td><td>{&quot;2025-05-29&quot;,&quot;MTABC_42506961-JKPB5-JK_B5-Weekday-02-SDon&quot;}</td><td>&quot;MTA_Q100577&quot;</td><td>[&quot;Q10&quot;]</td><td>&quot;MTABC&quot;</td><td>&quot;MTA_982222&quot;</td><td>&quot;MTA_982159&quot;</td><td>[&quot;KEW GARDENS UNION TPK STA via 130 ST via LEFFERTS BL&quot;]</td><td>true</td><td>{-73.809919,40.66842}</td><td>73.2127</td><td>&quot;normalProgress&quot;</td><td>&quot;seatsAvailable&quot;</td><td>&quot;MTABC_JKPB5-JK_B5-Weekday-02-S…</td><td>&quot;MTABC_5372&quot;</td><td>{&quot;2025-05-29T18:04:43.715-04:00&quot;,null,&quot;at stop&quot;,null,3,0,{{22,100,&quot;manySeatsAvailable&quot;}},&quot;MTA_550293&quot;,1,[&quot;130 ST /135 AV&quot;]}</td><td>[{&quot;MTABC_lmm:planned_work:23593&quot;}]</td><td>null</td><td>null</td><td>&quot;5372&quot;</td></tr><tr><td>&quot;MTABC_Q52+&quot;</td><td>&quot;1&quot;</td><td>{&quot;2025-05-29&quot;,&quot;MTABC_42508342-JKPB5-JK_B5-Weekday-02-SDon&quot;}</td><td>&quot;MTA_SBS520053&quot;</td><td>[&quot;Q52-SBS&quot;]</td><td>&quot;MTABC&quot;</td><td>&quot;MTA_552993&quot;</td><td>&quot;MTA_553336&quot;</td><td>[&quot;+SELECT BUS ARVERNE B. 54 ST via WOODHAVEN BL via CROSS BAY BL&quot;]</td><td>true</td><td>{-73.784523,40.594761}</td><td>95.84457</td><td>&quot;noProgress&quot;</td><td>null</td><td>null</td><td>&quot;MTABC_5371&quot;</td><td>{&quot;2025-05-29T18:00:00.721-04:00&quot;,&quot;2025-05-29T18:01:42.656-04:00&quot;,&quot;at stop&quot;,&quot;2025-05-29T18:01:42.656-04:00&quot;,0,0,null,&quot;MTA_550797&quot;,1,[&quot;BEACH CHANNEL DR/BEACH 54 ST&quot;]}</td><td>[{&quot;MTABC_lmm:planned_work:23593&quot;}, {&quot;MTABC_lmm:planned_work:16452&quot;}]</td><td>null</td><td>[&quot;layover&quot;]</td><td>&quot;5371&quot;</td></tr></tbody></table></div>"
      ],
      "text/plain": [
       "shape: (3_522, 21)\n",
       "┌───────────┬───────────┬───────────┬───────────┬───┬───────────┬───────────┬───────────┬──────────┐\n",
       "│ LineRef   ┆ Direction ┆ FramedVeh ┆ JourneyPa ┆ … ┆ Situation ┆ OriginAim ┆ ProgressS ┆ vehicle_ │\n",
       "│ ---       ┆ Ref       ┆ icleJourn ┆ tternRef  ┆   ┆ Ref       ┆ edDepartu ┆ tatus     ┆ id       │\n",
       "│ str       ┆ ---       ┆ eyRef     ┆ ---       ┆   ┆ ---       ┆ reTime    ┆ ---       ┆ ---      │\n",
       "│           ┆ str       ┆ ---       ┆ str       ┆   ┆ list[stru ┆ ---       ┆ list[str] ┆ str      │\n",
       "│           ┆           ┆ struct[2] ┆           ┆   ┆ ct[1]]    ┆ str       ┆           ┆          │\n",
       "╞═══════════╪═══════════╪═══════════╪═══════════╪═══╪═══════════╪═══════════╪═══════════╪══════════╡\n",
       "│ MTA       ┆ 0         ┆ {\"2025-05 ┆ MTA_BX380 ┆ … ┆ null      ┆ null      ┆ null      ┆ 9771     │\n",
       "│ NYCT_BX38 ┆           ┆ -29\",\"MTA ┆ 150       ┆   ┆           ┆           ┆           ┆          │\n",
       "│           ┆           ┆ NYCT_GH_B ┆           ┆   ┆           ┆           ┆           ┆          │\n",
       "│           ┆           ┆ 5-…       ┆           ┆   ┆           ┆           ┆           ┆          │\n",
       "│ MTA       ┆ 0         ┆ {\"2025-05 ┆ MTA_BX280 ┆ … ┆ null      ┆ null      ┆ null      ┆ 9770     │\n",
       "│ NYCT_BX28 ┆           ┆ -29\",\"MTA ┆ 725       ┆   ┆           ┆           ┆           ┆          │\n",
       "│           ┆           ┆ NYCT_GH_B ┆           ┆   ┆           ┆           ┆           ┆          │\n",
       "│           ┆           ┆ 5-…       ┆           ┆   ┆           ┆           ┆           ┆          │\n",
       "│ MTA       ┆ 1         ┆ {\"2025-05 ┆ MTA_Q8503 ┆ … ┆ [{\"MTA    ┆ null      ┆ null      ┆ 8440     │\n",
       "│ NYCT_Q85  ┆           ┆ -29\",\"MTA ┆ 43        ┆   ┆ NYCT_lmm: ┆           ┆           ┆          │\n",
       "│           ┆           ┆ NYCT_JA_B ┆           ┆   ┆ planned_w ┆           ┆           ┆          │\n",
       "│           ┆           ┆ 5-…       ┆           ┆   ┆ ork:1…    ┆           ┆           ┆          │\n",
       "│ MTA       ┆ 0         ┆ {\"2025-05 ┆ MTA_Q0400 ┆ … ┆ [{\"MTA    ┆ null      ┆ null      ┆ 8443     │\n",
       "│ NYCT_Q4   ┆           ┆ -29\",\"MTA ┆ 73        ┆   ┆ NYCT_lmm: ┆           ┆           ┆          │\n",
       "│           ┆           ┆ NYCT_JA_B ┆           ┆   ┆ planned_w ┆           ┆           ┆          │\n",
       "│           ┆           ┆ 5-…       ┆           ┆   ┆ ork:1…    ┆           ┆           ┆          │\n",
       "│ MTA       ┆ 0         ┆ {\"2025-05 ┆ MTA_M0200 ┆ … ┆ [{\"MTA    ┆ 2025-05-2 ┆ [\"layover ┆ 9775     │\n",
       "│ NYCT_M2   ┆           ┆ -29\",\"MTA ┆ 92        ┆   ┆ NYCT_lmm: ┆ 9T17:35:0 ┆ \"]        ┆          │\n",
       "│           ┆           ┆ NYCT_MV_B ┆           ┆   ┆ planned_w ┆ 0.000-04: ┆           ┆          │\n",
       "│           ┆           ┆ 5-…       ┆           ┆   ┆ ork:2…    ┆ 00        ┆           ┆          │\n",
       "│ …         ┆ …         ┆ …         ┆ …         ┆ … ┆ …         ┆ …         ┆ …         ┆ …        │\n",
       "│ MTABC_Q10 ┆ 1         ┆ {\"2025-05 ┆ MTA_Q1005 ┆ … ┆ [{\"MTABC_ ┆ null      ┆ null      ┆ 5376     │\n",
       "│           ┆           ┆ -29\",\"MTA ┆ 94        ┆   ┆ lmm:plann ┆           ┆           ┆          │\n",
       "│           ┆           ┆ BC_425068 ┆           ┆   ┆ ed_work:2 ┆           ┆           ┆          │\n",
       "│           ┆           ┆ 78-…      ┆           ┆   ┆ 359…      ┆           ┆           ┆          │\n",
       "│ MTABC_Q52 ┆ 0         ┆ {\"2025-05 ┆ MTA_SBS52 ┆ … ┆ [{\"MTABC_ ┆ null      ┆ null      ┆ 5375     │\n",
       "│ +         ┆           ┆ -29\",\"MTA ┆ 0045      ┆   ┆ lmm:plann ┆           ┆           ┆          │\n",
       "│           ┆           ┆ BC_425083 ┆           ┆   ┆ ed_work:2 ┆           ┆           ┆          │\n",
       "│           ┆           ┆ 22-…      ┆           ┆   ┆ 359…      ┆           ┆           ┆          │\n",
       "│ MTABC_Q10 ┆ 1         ┆ {\"2025-05 ┆ MTA_Q1005 ┆ … ┆ [{\"MTABC_ ┆ null      ┆ null      ┆ 5377     │\n",
       "│           ┆           ┆ -29\",\"MTA ┆ 95        ┆   ┆ lmm:plann ┆           ┆           ┆          │\n",
       "│           ┆           ┆ BC_425069 ┆           ┆   ┆ ed_work:2 ┆           ┆           ┆          │\n",
       "│           ┆           ┆ 29-…      ┆           ┆   ┆ 359…      ┆           ┆           ┆          │\n",
       "│ MTABC_Q10 ┆ 0         ┆ {\"2025-05 ┆ MTA_Q1005 ┆ … ┆ [{\"MTABC_ ┆ null      ┆ null      ┆ 5372     │\n",
       "│           ┆           ┆ -29\",\"MTA ┆ 77        ┆   ┆ lmm:plann ┆           ┆           ┆          │\n",
       "│           ┆           ┆ BC_425069 ┆           ┆   ┆ ed_work:2 ┆           ┆           ┆          │\n",
       "│           ┆           ┆ 61-…      ┆           ┆   ┆ 359…      ┆           ┆           ┆          │\n",
       "│ MTABC_Q52 ┆ 1         ┆ {\"2025-05 ┆ MTA_SBS52 ┆ … ┆ [{\"MTABC_ ┆ null      ┆ [\"layover ┆ 5371     │\n",
       "│ +         ┆           ┆ -29\",\"MTA ┆ 0053      ┆   ┆ lmm:plann ┆           ┆ \"]        ┆          │\n",
       "│           ┆           ┆ BC_425083 ┆           ┆   ┆ ed_work:2 ┆           ┆           ┆          │\n",
       "│           ┆           ┆ 42-…      ┆           ┆   ┆ 359…      ┆           ┆           ┆          │\n",
       "└───────────┴───────────┴───────────┴───────────┴───┴───────────┴───────────┴───────────┴──────────┘"
      ]
     },
     "metadata": {},
     "output_type": "display_data"
    }
   ],
   "source": [
    "display(df_oba, df_siri)"
   ]
  },
  {
   "cell_type": "code",
   "execution_count": 33,
   "metadata": {},
   "outputs": [
    {
     "data": {
      "text/plain": [
       "'OBA difference:'"
      ]
     },
     "metadata": {},
     "output_type": "display_data"
    },
    {
     "data": {
      "text/html": [
       "<div><style>\n",
       ".dataframe > thead > tr,\n",
       ".dataframe > tbody > tr {\n",
       "  text-align: right;\n",
       "  white-space: pre-wrap;\n",
       "}\n",
       "</style>\n",
       "<small>shape: (1_344,)</small><table border=\"1\" class=\"dataframe\"><thead><tr><th>vehicle_id</th></tr><tr><td>str</td></tr></thead><tbody><tr><td>&quot;9127&quot;</td></tr><tr><td>&quot;9120&quot;</td></tr><tr><td>&quot;6090&quot;</td></tr><tr><td>&quot;6092&quot;</td></tr><tr><td>&quot;9119&quot;</td></tr><tr><td>&hellip;</td></tr><tr><td>&quot;2559&quot;</td></tr><tr><td>&quot;2551&quot;</td></tr><tr><td>&quot;2542&quot;</td></tr><tr><td>&quot;2544&quot;</td></tr><tr><td>&quot;2546&quot;</td></tr></tbody></table></div>"
      ],
      "text/plain": [
       "shape: (1_344,)\n",
       "Series: 'vehicle_id' [str]\n",
       "[\n",
       "\t\"9127\"\n",
       "\t\"9120\"\n",
       "\t\"6090\"\n",
       "\t\"6092\"\n",
       "\t\"9119\"\n",
       "\t…\n",
       "\t\"2559\"\n",
       "\t\"2551\"\n",
       "\t\"2542\"\n",
       "\t\"2544\"\n",
       "\t\"2546\"\n",
       "]"
      ]
     },
     "metadata": {},
     "output_type": "display_data"
    }
   ],
   "source": [
    "siri_vehicle_ids = df_siri[\"vehicle_id\"]\n",
    "oba_vehicle_ids = df_oba[\"vehicle_id\"]\n",
    "\n",
    "\n",
    "display(\n",
    "    \"OBA difference:\", oba_vehicle_ids.filter(~oba_vehicle_ids.is_in(siri_vehicle_ids))\n",
    ")\n",
    "# display(\"difference:\", siri_vehicle_ids.filter(~siri_vehicle_ids.is_in(oba_vehicle_ids)))"
   ]
  },
  {
   "cell_type": "code",
   "execution_count": 35,
   "metadata": {},
   "outputs": [
    {
     "data": {
      "text/html": [
       "<div><style>\n",
       ".dataframe > thead > tr,\n",
       ".dataframe > tbody > tr {\n",
       "  text-align: right;\n",
       "  white-space: pre-wrap;\n",
       "}\n",
       "</style>\n",
       "<small>shape: (0, 11)</small><table border=\"1\" class=\"dataframe\"><thead><tr><th>lastLocationUpdateTime</th><th>lastUpdateTime</th><th>location</th><th>occupancyCapacity</th><th>occupancyCount</th><th>occupancyStatus</th><th>phase</th><th>status</th><th>tripId</th><th>vehicleId</th><th>vehicle_id</th></tr><tr><td>i64</td><td>i64</td><td>struct[2]</td><td>i64</td><td>i64</td><td>i64</td><td>str</td><td>str</td><td>str</td><td>str</td><td>str</td></tr></thead><tbody></tbody></table></div>"
      ],
      "text/plain": [
       "shape: (0, 11)\n",
       "┌─────────────┬────────────┬───────────┬────────────┬───┬────────┬────────┬───────────┬────────────┐\n",
       "│ lastLocatio ┆ lastUpdate ┆ location  ┆ occupancyC ┆ … ┆ status ┆ tripId ┆ vehicleId ┆ vehicle_id │\n",
       "│ nUpdateTime ┆ Time       ┆ ---       ┆ apacity    ┆   ┆ ---    ┆ ---    ┆ ---       ┆ ---        │\n",
       "│ ---         ┆ ---        ┆ struct[2] ┆ ---        ┆   ┆ str    ┆ str    ┆ str       ┆ str        │\n",
       "│ i64         ┆ i64        ┆           ┆ i64        ┆   ┆        ┆        ┆           ┆            │\n",
       "╞═════════════╪════════════╪═══════════╪════════════╪═══╪════════╪════════╪═══════════╪════════════╡\n",
       "└─────────────┴────────────┴───────────┴────────────┴───┴────────┴────────┴───────────┴────────────┘"
      ]
     },
     "execution_count": 35,
     "metadata": {},
     "output_type": "execute_result"
    }
   ],
   "source": [
    "filtered_df = df_oba.filter(\n",
    "    pl.col(\"lastLocationUpdateTime\") != pl.col(\"lastUpdateTime\")\n",
    ")\n",
    "# rows are equal\n",
    "# print(f\"Total rows: {len(df)}\")\n",
    "# print(f\"Filtered rows: {len(filtered_df)}\")\n",
    "# filtered_df.head(5)\n",
    "filtered_df"
   ]
  },
  {
   "cell_type": "code",
   "execution_count": 38,
   "metadata": {},
   "outputs": [
    {
     "data": {
      "text/html": [
       "<div><style>\n",
       ".dataframe > thead > tr,\n",
       ".dataframe > tbody > tr {\n",
       "  text-align: right;\n",
       "  white-space: pre-wrap;\n",
       "}\n",
       "</style>\n",
       "<small>shape: (5, 2)</small><table border=\"1\" class=\"dataframe\"><thead><tr><th>status</th><th>count</th></tr><tr><td>str</td><td>u32</td></tr></thead><tbody><tr><td>&quot;blockInf&quot;</td><td>3719</td></tr><tr><td>&quot;default&quot;</td><td>1112</td></tr><tr><td>&quot;blockInf+stalled&quot;</td><td>10</td></tr><tr><td>&quot;stalled&quot;</td><td>11</td></tr><tr><td>&quot;blockInf+deviated&quot;</td><td>14</td></tr></tbody></table></div>"
      ],
      "text/plain": [
       "shape: (5, 2)\n",
       "┌───────────────────┬───────┐\n",
       "│ status            ┆ count │\n",
       "│ ---               ┆ ---   │\n",
       "│ str               ┆ u32   │\n",
       "╞═══════════════════╪═══════╡\n",
       "│ blockInf          ┆ 3719  │\n",
       "│ default           ┆ 1112  │\n",
       "│ blockInf+stalled  ┆ 10    │\n",
       "│ stalled           ┆ 11    │\n",
       "│ blockInf+deviated ┆ 14    │\n",
       "└───────────────────┴───────┘"
      ]
     },
     "execution_count": 38,
     "metadata": {},
     "output_type": "execute_result"
    }
   ],
   "source": [
    "df_oba[\"status\"].value_counts()"
   ]
  },
  {
   "cell_type": "code",
   "execution_count": 37,
   "metadata": {},
   "outputs": [
    {
     "data": {
      "text/html": [
       "<div><style>\n",
       ".dataframe > thead > tr,\n",
       ".dataframe > tbody > tr {\n",
       "  text-align: right;\n",
       "  white-space: pre-wrap;\n",
       "}\n",
       "</style>\n",
       "<small>shape: (3, 2)</small><table border=\"1\" class=\"dataframe\"><thead><tr><th>ProgressRate</th><th>count</th></tr><tr><td>str</td><td>u32</td></tr></thead><tbody><tr><td>&quot;normalProgress&quot;</td><td>3203</td></tr><tr><td>&quot;noProgress&quot;</td><td>318</td></tr><tr><td>&quot;unknown&quot;</td><td>1</td></tr></tbody></table></div>"
      ],
      "text/plain": [
       "shape: (3, 2)\n",
       "┌────────────────┬───────┐\n",
       "│ ProgressRate   ┆ count │\n",
       "│ ---            ┆ ---   │\n",
       "│ str            ┆ u32   │\n",
       "╞════════════════╪═══════╡\n",
       "│ normalProgress ┆ 3203  │\n",
       "│ noProgress     ┆ 318   │\n",
       "│ unknown        ┆ 1     │\n",
       "└────────────────┴───────┘"
      ]
     },
     "execution_count": 37,
     "metadata": {},
     "output_type": "execute_result"
    }
   ],
   "source": [
    "df_siri[\"ProgressRate\"].value_counts()"
   ]
  },
  {
   "cell_type": "code",
   "execution_count": 39,
   "metadata": {},
   "outputs": [
    {
     "data": {
      "text/html": [
       "<div><style>\n",
       ".dataframe > thead > tr,\n",
       ".dataframe > tbody > tr {\n",
       "  text-align: right;\n",
       "  white-space: pre-wrap;\n",
       "}\n",
       "</style>\n",
       "<small>shape: (3, 2)</small><table border=\"1\" class=\"dataframe\"><thead><tr><th>ProgressStatus</th><th>count</th></tr><tr><td>list[str]</td><td>u32</td></tr></thead><tbody><tr><td>[&quot;layover&quot;]</td><td>309</td></tr><tr><td>null</td><td>3212</td></tr><tr><td>[&quot;spooking&quot;]</td><td>1</td></tr></tbody></table></div>"
      ],
      "text/plain": [
       "shape: (3, 2)\n",
       "┌────────────────┬───────┐\n",
       "│ ProgressStatus ┆ count │\n",
       "│ ---            ┆ ---   │\n",
       "│ list[str]      ┆ u32   │\n",
       "╞════════════════╪═══════╡\n",
       "│ [\"layover\"]    ┆ 309   │\n",
       "│ null           ┆ 3212  │\n",
       "│ [\"spooking\"]   ┆ 1     │\n",
       "└────────────────┴───────┘"
      ]
     },
     "execution_count": 39,
     "metadata": {},
     "output_type": "execute_result"
    }
   ],
   "source": [
    "df_siri[\"ProgressStatus\"].value_counts()"
   ]
  }
 ],
 "metadata": {
  "kernelspec": {
   "display_name": ".venv",
   "language": "python",
   "name": "python3"
  },
  "language_info": {
   "codemirror_mode": {
    "name": "ipython",
    "version": 3
   },
   "file_extension": ".py",
   "mimetype": "text/x-python",
   "name": "python",
   "nbconvert_exporter": "python",
   "pygments_lexer": "ipython3",
   "version": "3.13.3"
  }
 },
 "nbformat": 4,
 "nbformat_minor": 2
}
